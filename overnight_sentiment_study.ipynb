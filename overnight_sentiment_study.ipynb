{
 "cells": [
  {
   "cell_type": "markdown",
   "metadata": {},
   "source": [
    "# Overnight News Sentiment\n",
    "With some scraping magic, our team collected news headlines for our `FANG` Stocks from `https://www.nasdaq.com/symbol/{ticker}/news-headlines` into `dataset/nasdaq/FANG.csv`\n",
    "\n",
    "With the `mkt_dt_utils` we created and using `nltk.vader` we can compute **Overnight News Sentiments** for a given stock for the purpose of doing studies against overnight stock returns"
   ]
  },
  {
   "cell_type": "markdown",
   "metadata": {},
   "source": [
    "## Let's Load Our Data"
   ]
  },
  {
   "cell_type": "code",
   "execution_count": 1,
   "metadata": {},
   "outputs": [],
   "source": [
    "import pandas as pd"
   ]
  },
  {
   "cell_type": "code",
   "execution_count": 2,
   "metadata": {},
   "outputs": [],
   "source": [
    "fname = 'dataset/nasdaq/FANG.csv'\n",
    "data = pd.read_csv( fname, header = 0, index_col = 0, sep = '\\t')"
   ]
  },
  {
   "cell_type": "code",
   "execution_count": 3,
   "metadata": {},
   "outputs": [
    {
     "data": {
      "text/html": [
       "<div>\n",
       "<style scoped>\n",
       "    .dataframe tbody tr th:only-of-type {\n",
       "        vertical-align: middle;\n",
       "    }\n",
       "\n",
       "    .dataframe tbody tr th {\n",
       "        vertical-align: top;\n",
       "    }\n",
       "\n",
       "    .dataframe thead th {\n",
       "        text-align: right;\n",
       "    }\n",
       "</style>\n",
       "<table border=\"1\" class=\"dataframe\">\n",
       "  <thead>\n",
       "    <tr style=\"text-align: right;\">\n",
       "      <th></th>\n",
       "      <th>stockcode</th>\n",
       "      <th>source</th>\n",
       "      <th>headline</th>\n",
       "      <th>article</th>\n",
       "      <th>urls</th>\n",
       "    </tr>\n",
       "    <tr>\n",
       "      <th>datetime</th>\n",
       "      <th></th>\n",
       "      <th></th>\n",
       "      <th></th>\n",
       "      <th></th>\n",
       "      <th></th>\n",
       "    </tr>\n",
       "  </thead>\n",
       "  <tbody>\n",
       "    <tr>\n",
       "      <th>September 25, 2018, 05:45:15 PM EDT</th>\n",
       "      <td>NFLX</td>\n",
       "      <td>Zacks.com</td>\n",
       "      <td>Netflix (NFLX) Stock Moves -0.12%: What You Sh...</td>\n",
       "      <td>\\n In the latest trading session, Netflix (NFL...</td>\n",
       "      <td>https://www.nasdaq.com/article/netflix-nflx-st...</td>\n",
       "    </tr>\n",
       "    <tr>\n",
       "      <th>September 25, 2018, 05:30:00 PM EDT</th>\n",
       "      <td>NFLX</td>\n",
       "      <td>Zacks.com</td>\n",
       "      <td>What's In Store for FAANG Stocks During Q3 Ear...</td>\n",
       "      <td>\\n U.S. stocks were mixed on Tuesday as Wall S...</td>\n",
       "      <td>https://www.nasdaq.com/article/whats-in-store-...</td>\n",
       "    </tr>\n",
       "    <tr>\n",
       "      <th>September 25, 2018, 01:53:00 PM EDT</th>\n",
       "      <td>NFLX</td>\n",
       "      <td>Zacks.com</td>\n",
       "      <td>Instagram Founders Part With Facebook, Wall St...</td>\n",
       "      <td>\\n     On today's episode of Free Lunch, Assoc...</td>\n",
       "      <td>https://www.nasdaq.com/article/instagram-found...</td>\n",
       "    </tr>\n",
       "    <tr>\n",
       "      <th>September 25, 2018, 10:12:32 AM EDT</th>\n",
       "      <td>NFLX</td>\n",
       "      <td>InvestorPlace Media</td>\n",
       "      <td>Netflix Stock Is Set to Surge and Easily Could...</td>\n",
       "      <td>\\nInvestorPlace - Stock Market News, Stock Adv...</td>\n",
       "      <td>https://www.nasdaq.com/article/netflix-stock-i...</td>\n",
       "    </tr>\n",
       "    <tr>\n",
       "      <th>September 24, 2018, 11:47:16 PM EDT</th>\n",
       "      <td>NFLX</td>\n",
       "      <td>InvestorPlace Media</td>\n",
       "      <td>BABA Stock Could Get Even Cheaper</td>\n",
       "      <td>\\nInvestorPlace - Stock Market News, Stock Adv...</td>\n",
       "      <td>https://www.nasdaq.com/article/baba-stock-coul...</td>\n",
       "    </tr>\n",
       "  </tbody>\n",
       "</table>\n",
       "</div>"
      ],
      "text/plain": [
       "                                    stockcode               source  \\\n",
       "datetime                                                             \n",
       "September 25, 2018, 05:45:15 PM EDT      NFLX            Zacks.com   \n",
       "September 25, 2018, 05:30:00 PM EDT      NFLX            Zacks.com   \n",
       "September 25, 2018, 01:53:00 PM EDT      NFLX            Zacks.com   \n",
       "September 25, 2018, 10:12:32 AM EDT      NFLX  InvestorPlace Media   \n",
       "September 24, 2018, 11:47:16 PM EDT      NFLX  InvestorPlace Media   \n",
       "\n",
       "                                                                              headline  \\\n",
       "datetime                                                                                 \n",
       "September 25, 2018, 05:45:15 PM EDT  Netflix (NFLX) Stock Moves -0.12%: What You Sh...   \n",
       "September 25, 2018, 05:30:00 PM EDT  What's In Store for FAANG Stocks During Q3 Ear...   \n",
       "September 25, 2018, 01:53:00 PM EDT  Instagram Founders Part With Facebook, Wall St...   \n",
       "September 25, 2018, 10:12:32 AM EDT  Netflix Stock Is Set to Surge and Easily Could...   \n",
       "September 24, 2018, 11:47:16 PM EDT                  BABA Stock Could Get Even Cheaper   \n",
       "\n",
       "                                                                               article  \\\n",
       "datetime                                                                                 \n",
       "September 25, 2018, 05:45:15 PM EDT  \\n In the latest trading session, Netflix (NFL...   \n",
       "September 25, 2018, 05:30:00 PM EDT  \\n U.S. stocks were mixed on Tuesday as Wall S...   \n",
       "September 25, 2018, 01:53:00 PM EDT  \\n     On today's episode of Free Lunch, Assoc...   \n",
       "September 25, 2018, 10:12:32 AM EDT  \\nInvestorPlace - Stock Market News, Stock Adv...   \n",
       "September 24, 2018, 11:47:16 PM EDT  \\nInvestorPlace - Stock Market News, Stock Adv...   \n",
       "\n",
       "                                                                                  urls  \n",
       "datetime                                                                                \n",
       "September 25, 2018, 05:45:15 PM EDT  https://www.nasdaq.com/article/netflix-nflx-st...  \n",
       "September 25, 2018, 05:30:00 PM EDT  https://www.nasdaq.com/article/whats-in-store-...  \n",
       "September 25, 2018, 01:53:00 PM EDT  https://www.nasdaq.com/article/instagram-found...  \n",
       "September 25, 2018, 10:12:32 AM EDT  https://www.nasdaq.com/article/netflix-stock-i...  \n",
       "September 24, 2018, 11:47:16 PM EDT  https://www.nasdaq.com/article/baba-stock-coul...  "
      ]
     },
     "execution_count": 3,
     "metadata": {},
     "output_type": "execute_result"
    }
   ],
   "source": [
    "data.tail()"
   ]
  },
  {
   "cell_type": "code",
   "execution_count": 4,
   "metadata": {},
   "outputs": [],
   "source": [
    "data['timestring'] = data.index\n",
    "data['timestring'] = data['timestring'].astype('str')\n",
    "data['tz'] = data['timestring'].apply( lambda x: x[-3:])"
   ]
  },
  {
   "cell_type": "code",
   "execution_count": 5,
   "metadata": {},
   "outputs": [
    {
     "data": {
      "text/html": [
       "<div>\n",
       "<style scoped>\n",
       "    .dataframe tbody tr th:only-of-type {\n",
       "        vertical-align: middle;\n",
       "    }\n",
       "\n",
       "    .dataframe tbody tr th {\n",
       "        vertical-align: top;\n",
       "    }\n",
       "\n",
       "    .dataframe thead th {\n",
       "        text-align: right;\n",
       "    }\n",
       "</style>\n",
       "<table border=\"1\" class=\"dataframe\">\n",
       "  <thead>\n",
       "    <tr style=\"text-align: right;\">\n",
       "      <th></th>\n",
       "      <th>stockcode</th>\n",
       "      <th>source</th>\n",
       "      <th>headline</th>\n",
       "      <th>article</th>\n",
       "      <th>urls</th>\n",
       "      <th>timestring</th>\n",
       "      <th>tz</th>\n",
       "    </tr>\n",
       "    <tr>\n",
       "      <th>datetime</th>\n",
       "      <th></th>\n",
       "      <th></th>\n",
       "      <th></th>\n",
       "      <th></th>\n",
       "      <th></th>\n",
       "      <th></th>\n",
       "      <th></th>\n",
       "    </tr>\n",
       "  </thead>\n",
       "  <tbody>\n",
       "    <tr>\n",
       "      <th>NaN</th>\n",
       "      <td>AMZN</td>\n",
       "      <td>NaN</td>\n",
       "      <td>The Zacks Analyst Blog Highlights: Netflix, Di...</td>\n",
       "      <td>\\n\\n\\nShutterstock photo\\n\\n\\n\\n\\n\\n\\n\\r\\n    ...</td>\n",
       "      <td>https://www.nasdaq.com/article/the-zacks-analy...</td>\n",
       "      <td>nan</td>\n",
       "      <td>nan</td>\n",
       "    </tr>\n",
       "    <tr>\n",
       "      <th>NaN</th>\n",
       "      <td>AMZN</td>\n",
       "      <td>NaN</td>\n",
       "      <td>Amazon Announces New Job Positions for New Yor...</td>\n",
       "      <td>\\n\\n\\nShutterstock photo\\n\\n\\n\\n\\n\\n\\n\\r\\n    ...</td>\n",
       "      <td>https://www.nasdaq.com/article/amazon-announce...</td>\n",
       "      <td>nan</td>\n",
       "      <td>nan</td>\n",
       "    </tr>\n",
       "    <tr>\n",
       "      <th>NaN</th>\n",
       "      <td>AMZN</td>\n",
       "      <td>NaN</td>\n",
       "      <td>Why Amazon (AMZN) is Poised to Beat Earnings E...</td>\n",
       "      <td>\\n\\n\\nShutterstock photo\\n\\n\\n\\n\\n\\n\\n\\r\\n    ...</td>\n",
       "      <td>https://www.nasdaq.com/article/why-amazon-amzn...</td>\n",
       "      <td>nan</td>\n",
       "      <td>nan</td>\n",
       "    </tr>\n",
       "    <tr>\n",
       "      <th>NaN</th>\n",
       "      <td>AMZN</td>\n",
       "      <td>NaN</td>\n",
       "      <td>Amazon (AMZN) Dips More Than Broader Markets: ...</td>\n",
       "      <td>\\n\\n\\nShutterstock photo\\n\\n\\n\\n\\n\\n\\n\\r\\n    ...</td>\n",
       "      <td>https://www.nasdaq.com/article/amazon-amzn-dip...</td>\n",
       "      <td>nan</td>\n",
       "      <td>nan</td>\n",
       "    </tr>\n",
       "    <tr>\n",
       "      <th>NaN</th>\n",
       "      <td>GOOGL</td>\n",
       "      <td>NaN</td>\n",
       "      <td>Amazon Announces New Job Positions for New Yor...</td>\n",
       "      <td>\\n\\n\\nShutterstock photo\\n\\n\\n\\n\\n\\n\\n\\r\\n    ...</td>\n",
       "      <td>https://www.nasdaq.com/article/amazon-announce...</td>\n",
       "      <td>nan</td>\n",
       "      <td>nan</td>\n",
       "    </tr>\n",
       "    <tr>\n",
       "      <th>NaN</th>\n",
       "      <td>GOOGL</td>\n",
       "      <td>NaN</td>\n",
       "      <td>Alphabet (GOOGL) Dips More Than Broader Market...</td>\n",
       "      <td>\\n\\n\\nShutterstock photo\\n\\n\\n\\n\\n\\n\\n\\r\\n    ...</td>\n",
       "      <td>https://www.nasdaq.com/article/alphabet-googl-...</td>\n",
       "      <td>nan</td>\n",
       "      <td>nan</td>\n",
       "    </tr>\n",
       "    <tr>\n",
       "      <th>NaN</th>\n",
       "      <td>NFLX</td>\n",
       "      <td>NaN</td>\n",
       "      <td>The Zacks Analyst Blog Highlights: Netflix, Di...</td>\n",
       "      <td>\\n\\n\\nShutterstock photo\\n\\n\\n\\n\\n\\n\\n\\r\\n    ...</td>\n",
       "      <td>https://www.nasdaq.com/article/the-zacks-analy...</td>\n",
       "      <td>nan</td>\n",
       "      <td>nan</td>\n",
       "    </tr>\n",
       "  </tbody>\n",
       "</table>\n",
       "</div>"
      ],
      "text/plain": [
       "         stockcode source                                           headline  \\\n",
       "datetime                                                                       \n",
       "NaN           AMZN    NaN  The Zacks Analyst Blog Highlights: Netflix, Di...   \n",
       "NaN           AMZN    NaN  Amazon Announces New Job Positions for New Yor...   \n",
       "NaN           AMZN    NaN  Why Amazon (AMZN) is Poised to Beat Earnings E...   \n",
       "NaN           AMZN    NaN  Amazon (AMZN) Dips More Than Broader Markets: ...   \n",
       "NaN          GOOGL    NaN  Amazon Announces New Job Positions for New Yor...   \n",
       "NaN          GOOGL    NaN  Alphabet (GOOGL) Dips More Than Broader Market...   \n",
       "NaN           NFLX    NaN  The Zacks Analyst Blog Highlights: Netflix, Di...   \n",
       "\n",
       "                                                    article  \\\n",
       "datetime                                                      \n",
       "NaN       \\n\\n\\nShutterstock photo\\n\\n\\n\\n\\n\\n\\n\\r\\n    ...   \n",
       "NaN       \\n\\n\\nShutterstock photo\\n\\n\\n\\n\\n\\n\\n\\r\\n    ...   \n",
       "NaN       \\n\\n\\nShutterstock photo\\n\\n\\n\\n\\n\\n\\n\\r\\n    ...   \n",
       "NaN       \\n\\n\\nShutterstock photo\\n\\n\\n\\n\\n\\n\\n\\r\\n    ...   \n",
       "NaN       \\n\\n\\nShutterstock photo\\n\\n\\n\\n\\n\\n\\n\\r\\n    ...   \n",
       "NaN       \\n\\n\\nShutterstock photo\\n\\n\\n\\n\\n\\n\\n\\r\\n    ...   \n",
       "NaN       \\n\\n\\nShutterstock photo\\n\\n\\n\\n\\n\\n\\n\\r\\n    ...   \n",
       "\n",
       "                                                       urls timestring   tz  \n",
       "datetime                                                                     \n",
       "NaN       https://www.nasdaq.com/article/the-zacks-analy...        nan  nan  \n",
       "NaN       https://www.nasdaq.com/article/amazon-announce...        nan  nan  \n",
       "NaN       https://www.nasdaq.com/article/why-amazon-amzn...        nan  nan  \n",
       "NaN       https://www.nasdaq.com/article/amazon-amzn-dip...        nan  nan  \n",
       "NaN       https://www.nasdaq.com/article/amazon-announce...        nan  nan  \n",
       "NaN       https://www.nasdaq.com/article/alphabet-googl-...        nan  nan  \n",
       "NaN       https://www.nasdaq.com/article/the-zacks-analy...        nan  nan  "
      ]
     },
     "execution_count": 5,
     "metadata": {},
     "output_type": "execute_result"
    }
   ],
   "source": [
    "data[data['tz']!= 'EDT']"
   ]
  },
  {
   "cell_type": "markdown",
   "metadata": {},
   "source": [
    "### Remove Bad Data"
   ]
  },
  {
   "cell_type": "code",
   "execution_count": 6,
   "metadata": {},
   "outputs": [
    {
     "name": "stdout",
     "output_type": "stream",
     "text": [
      "Dataset has 6005 points, of which; 40 are duplicates, and 7 are missing DateTime info.\n"
     ]
    }
   ],
   "source": [
    "dup_filter = data.duplicated()\n",
    "na_dt = data.index.isna()\n",
    "\n",
    "print(f'Dataset has {len(data)} points, of which; {sum(dup_filter)} are duplicates, and {sum(na_dt)} are missing DateTime info.')"
   ]
  },
  {
   "cell_type": "code",
   "execution_count": 7,
   "metadata": {},
   "outputs": [
    {
     "name": "stdout",
     "output_type": "stream",
     "text": [
      "After cleaning we have 5958 data points\n"
     ]
    }
   ],
   "source": [
    "data = data.drop_duplicates()\n",
    "data = data[ ~ data.index.isna()]\n",
    "print(f'After cleaning we have {len(data)} data points')"
   ]
  },
  {
   "cell_type": "code",
   "execution_count": 8,
   "metadata": {},
   "outputs": [
    {
     "name": "stderr",
     "output_type": "stream",
     "text": [
      "/Users/JHO/.virtualenvs/VADER/lib/python3.6/site-packages/dateutil/parser/_parser.py:1206: UnknownTimezoneWarning: tzname EDT identified but not understood.  Pass `tzinfos` argument in order to correctly return a timezone-aware datetime.  In a future version, this will raise an exception.\n",
      "  category=UnknownTimezoneWarning)\n"
     ]
    }
   ],
   "source": [
    "data['tz'] = data['tz'].apply( lambda x : 'EST' if x == 'EDT' else x)\n",
    "data['dt'] = pd.to_datetime(data['timestring']).dt.tz_localize('EST')"
   ]
  },
  {
   "cell_type": "code",
   "execution_count": 9,
   "metadata": {
    "scrolled": true
   },
   "outputs": [
    {
     "data": {
      "text/html": [
       "<div>\n",
       "<style scoped>\n",
       "    .dataframe tbody tr th:only-of-type {\n",
       "        vertical-align: middle;\n",
       "    }\n",
       "\n",
       "    .dataframe tbody tr th {\n",
       "        vertical-align: top;\n",
       "    }\n",
       "\n",
       "    .dataframe thead th {\n",
       "        text-align: right;\n",
       "    }\n",
       "</style>\n",
       "<table border=\"1\" class=\"dataframe\">\n",
       "  <thead>\n",
       "    <tr style=\"text-align: right;\">\n",
       "      <th></th>\n",
       "      <th>stockcode</th>\n",
       "      <th>source</th>\n",
       "      <th>headline</th>\n",
       "      <th>article</th>\n",
       "      <th>urls</th>\n",
       "      <th>timestring</th>\n",
       "      <th>tz</th>\n",
       "      <th>dt</th>\n",
       "    </tr>\n",
       "    <tr>\n",
       "      <th>datetime</th>\n",
       "      <th></th>\n",
       "      <th></th>\n",
       "      <th></th>\n",
       "      <th></th>\n",
       "      <th></th>\n",
       "      <th></th>\n",
       "      <th></th>\n",
       "      <th></th>\n",
       "    </tr>\n",
       "  </thead>\n",
       "  <tbody>\n",
       "    <tr>\n",
       "      <th>February 07, 2019, 09:11:00 PM EDT</th>\n",
       "      <td>AMZN</td>\n",
       "      <td>NaN</td>\n",
       "      <td>Amazon CEO Jeff Bezos Accuses National Enquire...</td>\n",
       "      <td>\\n\\n\\nShutterstock photo\\n\\n@media screen and ...</td>\n",
       "      <td>https://www.nasdaq.com/article/amazon-ceo-jeff...</td>\n",
       "      <td>February 07, 2019, 09:11:00 PM EDT</td>\n",
       "      <td>EST</td>\n",
       "      <td>2019-02-07 21:11:00-05:00</td>\n",
       "    </tr>\n",
       "    <tr>\n",
       "      <th>February 07, 2019, 02:49:22 PM EDT</th>\n",
       "      <td>AMZN</td>\n",
       "      <td>BNK Invest</td>\n",
       "      <td>Notable Thursday Option Activity: AMZN, BKNG, ...</td>\n",
       "      <td>\\nAmong the underlying components of the S&amp;P 5...</td>\n",
       "      <td>https://www.nasdaq.com/article/notable-thursda...</td>\n",
       "      <td>February 07, 2019, 02:49:22 PM EDT</td>\n",
       "      <td>EST</td>\n",
       "      <td>2019-02-07 14:49:22-05:00</td>\n",
       "    </tr>\n",
       "    <tr>\n",
       "      <th>February 07, 2019, 06:55:00 PM EDT</th>\n",
       "      <td>AMZN</td>\n",
       "      <td>NaN</td>\n",
       "      <td>Amazon's Bezos says National Enquirer owner tr...</td>\n",
       "      <td>\\n\\n\\nReuters\\n\\n@media screen and (max-device...</td>\n",
       "      <td>https://www.nasdaq.com/article/amazons-bezos-s...</td>\n",
       "      <td>February 07, 2019, 06:55:00 PM EDT</td>\n",
       "      <td>EST</td>\n",
       "      <td>2019-02-07 18:55:00-05:00</td>\n",
       "    </tr>\n",
       "    <tr>\n",
       "      <th>February 07, 2019, 06:26:00 PM EDT</th>\n",
       "      <td>AMZN</td>\n",
       "      <td>NaN</td>\n",
       "      <td>Amazon's Bezos says National Enquirer tried to...</td>\n",
       "      <td>\\n\\n\\nReuters\\n\\n@media screen and (max-device...</td>\n",
       "      <td>https://www.nasdaq.com/article/amazons-bezos-s...</td>\n",
       "      <td>February 07, 2019, 06:26:00 PM EDT</td>\n",
       "      <td>EST</td>\n",
       "      <td>2019-02-07 18:26:00-05:00</td>\n",
       "    </tr>\n",
       "    <tr>\n",
       "      <th>February 07, 2019, 11:55:45 AM EDT</th>\n",
       "      <td>AMZN</td>\n",
       "      <td>InvestorPlace Media</td>\n",
       "      <td>IRS Tax Refund 2019: So, Where’s My Tax Refund?</td>\n",
       "      <td>\\nInvestorPlace - Stock Market News, Stock Adv...</td>\n",
       "      <td>https://www.nasdaq.com/article/irs-tax-refund-...</td>\n",
       "      <td>February 07, 2019, 11:55:45 AM EDT</td>\n",
       "      <td>EST</td>\n",
       "      <td>2019-02-07 11:55:45-05:00</td>\n",
       "    </tr>\n",
       "  </tbody>\n",
       "</table>\n",
       "</div>"
      ],
      "text/plain": [
       "                                   stockcode               source  \\\n",
       "datetime                                                            \n",
       "February 07, 2019, 09:11:00 PM EDT      AMZN                  NaN   \n",
       "February 07, 2019, 02:49:22 PM EDT      AMZN           BNK Invest   \n",
       "February 07, 2019, 06:55:00 PM EDT      AMZN                  NaN   \n",
       "February 07, 2019, 06:26:00 PM EDT      AMZN                  NaN   \n",
       "February 07, 2019, 11:55:45 AM EDT      AMZN  InvestorPlace Media   \n",
       "\n",
       "                                                                             headline  \\\n",
       "datetime                                                                                \n",
       "February 07, 2019, 09:11:00 PM EDT  Amazon CEO Jeff Bezos Accuses National Enquire...   \n",
       "February 07, 2019, 02:49:22 PM EDT  Notable Thursday Option Activity: AMZN, BKNG, ...   \n",
       "February 07, 2019, 06:55:00 PM EDT  Amazon's Bezos says National Enquirer owner tr...   \n",
       "February 07, 2019, 06:26:00 PM EDT  Amazon's Bezos says National Enquirer tried to...   \n",
       "February 07, 2019, 11:55:45 AM EDT    IRS Tax Refund 2019: So, Where’s My Tax Refund?   \n",
       "\n",
       "                                                                              article  \\\n",
       "datetime                                                                                \n",
       "February 07, 2019, 09:11:00 PM EDT  \\n\\n\\nShutterstock photo\\n\\n@media screen and ...   \n",
       "February 07, 2019, 02:49:22 PM EDT  \\nAmong the underlying components of the S&P 5...   \n",
       "February 07, 2019, 06:55:00 PM EDT  \\n\\n\\nReuters\\n\\n@media screen and (max-device...   \n",
       "February 07, 2019, 06:26:00 PM EDT  \\n\\n\\nReuters\\n\\n@media screen and (max-device...   \n",
       "February 07, 2019, 11:55:45 AM EDT  \\nInvestorPlace - Stock Market News, Stock Adv...   \n",
       "\n",
       "                                                                                 urls  \\\n",
       "datetime                                                                                \n",
       "February 07, 2019, 09:11:00 PM EDT  https://www.nasdaq.com/article/amazon-ceo-jeff...   \n",
       "February 07, 2019, 02:49:22 PM EDT  https://www.nasdaq.com/article/notable-thursda...   \n",
       "February 07, 2019, 06:55:00 PM EDT  https://www.nasdaq.com/article/amazons-bezos-s...   \n",
       "February 07, 2019, 06:26:00 PM EDT  https://www.nasdaq.com/article/amazons-bezos-s...   \n",
       "February 07, 2019, 11:55:45 AM EDT  https://www.nasdaq.com/article/irs-tax-refund-...   \n",
       "\n",
       "                                                            timestring   tz  \\\n",
       "datetime                                                                      \n",
       "February 07, 2019, 09:11:00 PM EDT  February 07, 2019, 09:11:00 PM EDT  EST   \n",
       "February 07, 2019, 02:49:22 PM EDT  February 07, 2019, 02:49:22 PM EDT  EST   \n",
       "February 07, 2019, 06:55:00 PM EDT  February 07, 2019, 06:55:00 PM EDT  EST   \n",
       "February 07, 2019, 06:26:00 PM EDT  February 07, 2019, 06:26:00 PM EDT  EST   \n",
       "February 07, 2019, 11:55:45 AM EDT  February 07, 2019, 11:55:45 AM EDT  EST   \n",
       "\n",
       "                                                          dt  \n",
       "datetime                                                      \n",
       "February 07, 2019, 09:11:00 PM EDT 2019-02-07 21:11:00-05:00  \n",
       "February 07, 2019, 02:49:22 PM EDT 2019-02-07 14:49:22-05:00  \n",
       "February 07, 2019, 06:55:00 PM EDT 2019-02-07 18:55:00-05:00  \n",
       "February 07, 2019, 06:26:00 PM EDT 2019-02-07 18:26:00-05:00  \n",
       "February 07, 2019, 11:55:45 AM EDT 2019-02-07 11:55:45-05:00  "
      ]
     },
     "execution_count": 9,
     "metadata": {},
     "output_type": "execute_result"
    }
   ],
   "source": [
    "data.head()"
   ]
  },
  {
   "cell_type": "markdown",
   "metadata": {},
   "source": [
    "## Example of Relevancy Source and Sentiment Score assignment"
   ]
  },
  {
   "cell_type": "code",
   "execution_count": 10,
   "metadata": {},
   "outputs": [],
   "source": [
    "example_no = 57\n",
    "test_url = data['urls'][example_no]\n",
    "test_article = data['article'][example_no]"
   ]
  },
  {
   "cell_type": "markdown",
   "metadata": {},
   "source": [
    "### 1. Text Preprocessing"
   ]
  },
  {
   "cell_type": "code",
   "execution_count": 11,
   "metadata": {},
   "outputs": [
    {
     "data": {
      "text/plain": [
       "'\\nInvestorPlace - Stock Market News, Stock Advice & Trading TipsLeading the Apple \\xa0(NASDAQ: AAPL ) rumor mill today is news of the company losing an AR team member. Today, we\\'ll look at that and other Apple Rumors for Tuesday.makeArticleAd(); Hololens :\\xa0 Avi Bar-Zeev is no longer working at Apple , reports Variety . The co-inventor of the Hololens AR headset stopped working for AAPL in January. He notes that his departure was the \"best\" one could have and wouldn\\'t speak about product plans at the company.\\xa0Avi Bar-Zeev was reportedly working on an AR headset for AAPL that some were expecting to come out in 2020. It\\'s unknown if that will still take place following his departure.iOS 12.2 Public Beta : The second iOS 12.2 public beta will be coming out today , MacRumors noted. This release will bring public beta testers up to speed with developers. The second developer beta of iOS 12.2 came out yesterday. One of the noteworthy additions of this new update is the inclusion of four new\\xa0Animoji for users to play around with.HomePod : The HomePod isn\\'t doing all that well in the U.S. , reports 9to5Mac . A recent study by\\xa0CIRP claims that the HomePod currently only holds 6% of the smartspeaker market in the U.S. This means there are roughly 4 million of the units out in the wild. This has it trailing well behind Amazon\\'s (NASDAQ: AMZN ) Echo line with its 70% share of the market and Alphabet\\'s (NASDAQ: GOOG , GOOGL ) Google Home with its 24% share of the market.Check out more recent Apple Rumors or Subscribe to Apple Rumors : RSSAs of this writing, William White did not hold a position in any of the aforementioned securities.Compare BrokersThe post Tuesday Apple Rumors: Hololens Co-Inventor Avi Bar-Zeev Leaves Apple appeared first on InvestorPlace .\\n'"
      ]
     },
     "execution_count": 11,
     "metadata": {},
     "output_type": "execute_result"
    }
   ],
   "source": [
    "test_article"
   ]
  },
  {
   "cell_type": "code",
   "execution_count": 25,
   "metadata": {},
   "outputs": [],
   "source": [
    "def CleanText(inText):\n",
    "    import re\n",
    "    outText = re.sub(r\"(\\n)|(\\r)|('\\')\", '', inText)\n",
    "    outText = outText.replace(u'\\xa0',' ').encode('utf-8')\n",
    "    outText = outText.decode('utf-8')\n",
    "    \n",
    "    return outText"
   ]
  },
  {
   "cell_type": "code",
   "execution_count": 26,
   "metadata": {},
   "outputs": [
    {
     "data": {
      "text/plain": [
       "'InvestorPlace - Stock Market News, Stock Advice & Trading TipsLeading the Apple  (NASDAQ: AAPL ) rumor mill today is news of the company losing an AR team member. Today, we\\'ll look at that and other Apple Rumors for Tuesday.makeArticleAd(); Hololens :  Avi Bar-Zeev is no longer working at Apple , reports Variety . The co-inventor of the Hololens AR headset stopped working for AAPL in January. He notes that his departure was the \"best\" one could have and wouldn\\'t speak about product plans at the company. Avi Bar-Zeev was reportedly working on an AR headset for AAPL that some were expecting to come out in 2020. It\\'s unknown if that will still take place following his departure.iOS 12.2 Public Beta : The second iOS 12.2 public beta will be coming out today , MacRumors noted. This release will bring public beta testers up to speed with developers. The second developer beta of iOS 12.2 came out yesterday. One of the noteworthy additions of this new update is the inclusion of four new Animoji for users to play around with.HomePod : The HomePod isn\\'t doing all that well in the U.S. , reports 9to5Mac . A recent study by CIRP claims that the HomePod currently only holds 6% of the smartspeaker market in the U.S. This means there are roughly 4 million of the units out in the wild. This has it trailing well behind Amazon\\'s (NASDAQ: AMZN ) Echo line with its 70% share of the market and Alphabet\\'s (NASDAQ: GOOG , GOOGL ) Google Home with its 24% share of the market.Check out more recent Apple Rumors or Subscribe to Apple Rumors : RSSAs of this writing, William White did not hold a position in any of the aforementioned securities.Compare BrokersThe post Tuesday Apple Rumors: Hololens Co-Inventor Avi Bar-Zeev Leaves Apple appeared first on InvestorPlace .'"
      ]
     },
     "execution_count": 26,
     "metadata": {},
     "output_type": "execute_result"
    }
   ],
   "source": [
    "test_article_clean = CleanText(test_article)\n",
    "test_article_clean"
   ]
  },
  {
   "cell_type": "markdown",
   "metadata": {},
   "source": [
    "### 2. Get Article Summary"
   ]
  },
  {
   "cell_type": "code",
   "execution_count": 41,
   "metadata": {},
   "outputs": [
    {
     "data": {
      "text/plain": [
       "\"Today, we'll look at that and other Apple Rumors for Tuesday.makeArticleAd(); Hololens :  Avi Bar-Zeev is no longer working at Apple , reports Variety .\\nAvi Bar-Zeev was reportedly working on an AR headset for AAPL that some were expecting to come out in 2020.\\nThis has it trailing well behind Amazon's (NASDAQ: AMZN ) Echo line with its 70% share of the market and Alphabet's (NASDAQ: GOOG , GOOGL ) Google Home with its 24% share of the market.Check out more recent Apple Rumors or Subscribe to Apple Rumors : RSSAs of this writing, William White did not hold a position in any of the aforementioned securities.Compare BrokersThe post Tuesday Apple Rumors: Hololens Co-Inventor Avi Bar-Zeev Leaves Apple appeared first on InvestorPlace .\""
      ]
     },
     "execution_count": 41,
     "metadata": {},
     "output_type": "execute_result"
    }
   ],
   "source": [
    "from summa import summarizer\n",
    "summary_summa = summarizer.summarize(test_article_clean, ratio = 0.3)\n",
    "summary_summa"
   ]
  },
  {
   "cell_type": "code",
   "execution_count": 42,
   "metadata": {},
   "outputs": [
    {
     "name": "stdout",
     "output_type": "stream",
     "text": [
      "InvestorPlace - Stock Market News, Stock Advice & Trading TipsLeading the Apple  (NASDAQ: AAPL ) rumor mill today is news of the company losing an AR team member.\n",
      "Avi Bar-Zeev was reportedly working on an AR headset for AAPL that some were expecting to come out in 2020.\n",
      "One of the noteworthy additions of this new update is the inclusion of four new Animoji for users to play around with.HomePod : The HomePod isn't doing all that well in the U.S. , reports 9to5Mac .\n",
      "A recent study by CIRP claims that the HomePod currently only holds 6% of the smartspeaker market in the U.S.\n",
      "This has it trailing well behind Amazon's (NASDAQ: AMZN ) Echo line with its 70% share of the market and Alphabet's (NASDAQ: GOOG , GOOGL ) Google Home with its 24% share of the market.Check out more recent Apple Rumors or Subscribe to Apple Rumors : RSSAs of this writing, William White did not hold a position in any of the aforementioned securities.Compare BrokersThe post Tuesday Apple Rumors: Hololens Co-Inventor Avi Bar-Zeev Leaves Apple appeared first on InvestorPlace .\n"
     ]
    }
   ],
   "source": [
    "from sumy.summarizers.lsa import LsaSummarizer\n",
    "from sumy.nlp.stemmers import Stemmer\n",
    "from sumy.nlp.tokenizers import Tokenizer\n",
    "from sumy.utils import get_stop_words\n",
    "from sumy.parsers.plaintext import PlaintextParser\n",
    "\n",
    "lang = 'english'\n",
    "sent_count = 5\n",
    "\n",
    "parser = PlaintextParser.from_string(test_article_clean, Tokenizer(lang))\n",
    "LsaSum = LsaSummarizer( Stemmer(lang))\n",
    "LsaSum.stop_words = get_stop_words(lang)\n",
    "\n",
    "summary_sumy = LsaSum(parser.document, sent_count)\n",
    "\n",
    "for isent in summary_sumy:\n",
    "    print(isent)"
   ]
  },
  {
   "cell_type": "markdown",
   "metadata": {},
   "source": [
    "### 3. Relavency Score"
   ]
  },
  {
   "cell_type": "code",
   "execution_count": 47,
   "metadata": {},
   "outputs": [
    {
     "name": "stdout",
     "output_type": "stream",
     "text": [
      "Today <- DATE\n",
      "Apple <- ORG\n",
      "Rumors <- PRODUCT\n",
      "Hololens <- PERSON\n",
      "Avi Bar-Zeev <- PERSON\n",
      "Apple <- ORG\n",
      "Variety <- GPE\n",
      "\n",
      " <- GPE\n",
      "Avi Bar-Zeev <- PERSON\n",
      "AR <- ORG\n",
      "AAPL <- ORG\n",
      "2020 <- DATE\n",
      "\n",
      " <- GPE\n",
      "Amazon <- ORG\n",
      "NASDAQ <- ORG\n",
      "Echo <- GPE\n",
      "70% <- PERCENT\n",
      "Alphabet <- ORG\n",
      "NASDAQ <- ORG\n",
      "Google Home <- ORG\n",
      "24% <- PERCENT\n",
      "Apple <- ORG\n",
      "Subscribe <- ORG\n",
      "Apple <- ORG\n",
      "William White <- PERSON\n",
      "Compare BrokersThe <- PERSON\n",
      "Tuesday <- DATE\n",
      "Apple <- ORG\n",
      "Hololens Co-Inventor <- ORG\n",
      "Avi Bar-Zeev <- PERSON\n",
      "Apple <- ORG\n",
      "first <- ORDINAL\n",
      "InvestorPlace <- ORG\n"
     ]
    }
   ],
   "source": [
    "import spacy\n",
    "\n",
    "# requirement:\n",
    "# Run this in your command prompt:\n",
    "# $ python -m spacy download en\n",
    "\n",
    "nlp = spacy.load('en_core_web_sm')\n",
    "doc = nlp(summary_summa)\n",
    "\n",
    "for ent in doc.ents:\n",
    "    print(f'{ent.text} <- {ent.label_}')"
   ]
  },
  {
   "cell_type": "code",
   "execution_count": 48,
   "metadata": {},
   "outputs": [],
   "source": [
    "AmazonKw = ['AMZN', 'Amazon', 'Jeff Bezos', 'Bezos', \n",
    "            'AWS', 'Amazon Web Services',\n",
    "            'Amazon Kindle', 'Kindle', \n",
    "            'Amazon Echo','Echo', \n",
    "            'Amazon Prime', 'Prime', \n",
    "            'Alexa',\n",
    "            'Whole Foods Market', 'Whole Foods',\n",
    "            'Audible', 'Amazon Studios', 'Goodreads', 'Woot', 'Zappos'\n",
    "           ]\n",
    "\n",
    "def GetRelavency(inText, kwList):\n",
    "    import spacy\n",
    "    nlp = spacy.load('en_core_web_sm')\n",
    "    doc = nlp(inText)\n",
    "    \n",
    "    rSource = 0\n",
    "    for ent in doc.ents:\n",
    "        if ent.text.lower() in [kw.lower() for kw in kwList]:\n",
    "            rSource += 1\n",
    "    \n",
    "    return rSource"
   ]
  },
  {
   "cell_type": "code",
   "execution_count": 49,
   "metadata": {},
   "outputs": [
    {
     "data": {
      "text/plain": [
       "2"
      ]
     },
     "execution_count": 49,
     "metadata": {},
     "output_type": "execute_result"
    }
   ],
   "source": [
    "GetRelavency(summary_summa, AmazonKw)"
   ]
  },
  {
   "cell_type": "markdown",
   "metadata": {},
   "source": [
    "### 4. Get Sentiment"
   ]
  },
  {
   "cell_type": "markdown",
   "metadata": {},
   "source": [
    "#### Using Stock Market Lexicon"
   ]
  },
  {
   "cell_type": "code",
   "execution_count": 58,
   "metadata": {},
   "outputs": [
    {
     "name": "stdout",
     "output_type": "stream",
     "text": [
      "--- Text ---\n",
      "Today, we'll look at that and other Apple Rumors for Tuesday.makeArticleAd(); Hololens :  Avi Bar-Zeev is no longer working at Apple , reports Variety .\n",
      "Avi Bar-Zeev was reportedly working on an AR headset for AAPL that some were expecting to come out in 2020.\n",
      "This has it trailing well behind Amazon's (NASDAQ: AMZN ) Echo line with its 70% share of the market and Alphabet's (NASDAQ: GOOG , GOOGL ) Google Home with its 24% share of the market.Check out more recent Apple Rumors or Subscribe to Apple Rumors : RSSAs of this writing, William White did not hold a position in any of the aforementioned securities.Compare BrokersThe post Tuesday Apple Rumors: Hololens Co-Inventor Avi Bar-Zeev Leaves Apple appeared first on InvestorPlace .\n",
      "--- Sentiment Score: 0.12483333333333334 ---\n"
     ]
    }
   ],
   "source": [
    "from vaderSentiment.vaderSentiment import SentimentIntensityAnalyzer\n",
    "from nltk import sent_tokenize\n",
    "\n",
    "SIA = SentimentIntensityAnalyzer()\n",
    "sent_text = sent_tokenize( summary_summa)\n",
    "\n",
    "sent_count = 0\n",
    "sent_sum = 0\n",
    "for sent in sent_text:\n",
    "    sent_sum += SIA.polarity_scores(sent)['compound']\n",
    "    sent_count += 1\n",
    "\n",
    "SIA_Score = sent_sum/ sent_count\n",
    "\n",
    "print( f'--- Text ---\\n{summary_summa}\\n--- Sentiment Score: {SIA_Score} ---')"
   ]
  },
  {
   "cell_type": "markdown",
   "metadata": {},
   "source": [
    "#### Using regular Vader"
   ]
  },
  {
   "cell_type": "code",
   "execution_count": 55,
   "metadata": {},
   "outputs": [
    {
     "name": "stdout",
     "output_type": "stream",
     "text": [
      "--- Text ---\n",
      "Today, we'll look at that and other Apple Rumors for Tuesday.makeArticleAd(); Hololens :  Avi Bar-Zeev is no longer working at Apple , reports Variety .\n",
      "Avi Bar-Zeev was reportedly working on an AR headset for AAPL that some were expecting to come out in 2020.\n",
      "This has it trailing well behind Amazon's (NASDAQ: AMZN ) Echo line with its 70% share of the market and Alphabet's (NASDAQ: GOOG , GOOGL ) Google Home with its 24% share of the market.Check out more recent Apple Rumors or Subscribe to Apple Rumors : RSSAs of this writing, William White did not hold a position in any of the aforementioned securities.Compare BrokersThe post Tuesday Apple Rumors: Hololens Co-Inventor Avi Bar-Zeev Leaves Apple appeared first on InvestorPlace .\n",
      "--- Sentiment Score: 0.12483333333333334 ---\n"
     ]
    }
   ],
   "source": [
    "from nltk.sentiment.vader import SentimentIntensityAnalyzer\n",
    "from nltk import sent_tokenize\n",
    "\n",
    "SIA_ = SentimentIntensityAnalyzer()\n",
    "sent_text = sent_tokenize( summary_summa)\n",
    "\n",
    "sent_count = 0\n",
    "sent_sum = 0\n",
    "for sent in sent_text:\n",
    "    sent_sum += SIA_.polarity_scores(sent)['compound']\n",
    "    sent_count += 1\n",
    "\n",
    "SIA_Score = sent_sum/ sent_count\n",
    "\n",
    "print( f'--- Text ---\\n{summary_summa}\\n--- Sentiment Score: {SIA_Score} ---')"
   ]
  },
  {
   "cell_type": "markdown",
   "metadata": {},
   "source": [
    "#### Side Note: `Newspaper` is pretty cool as well"
   ]
  },
  {
   "cell_type": "code",
   "execution_count": 52,
   "metadata": {
    "scrolled": true
   },
   "outputs": [
    {
     "data": {
      "text/plain": [
       "'InvestorPlace - Stock Market News, Stock Advice & Trading Tips\\n\\nLeading the Apple (NASDAQ: AAPL ) rumor mill today is news of the company losing an AR team member. Today, we\\'ll look at that and other Apple Rumors for Tuesday.\\n\\nHololens : Avi Bar-Zeev is no longer working at Apple , reports Variety . The co-inventor of the Hololens AR headset stopped working for AAPL in January. He notes that his departure was the \"best\" one could have and wouldn\\'t speak about product plans at the company. Avi Bar-Zeev was reportedly working on an AR headset for AAPL that some were expecting to come out in 2020. It\\'s unknown if that will still take place following his departure.\\n\\niOS 12.2 Public Beta : The second iOS 12.2 public beta will be coming out today , MacRumors noted. This release will bring public beta testers up to speed with developers. The second developer beta of iOS 12.2 came out yesterday. One of the noteworthy additions of this new update is the inclusion of four new Animoji for users to play around with.\\n\\nHomePod : The HomePod isn\\'t doing all that well in the U.S. , reports 9to5Mac . A recent study by CIRP claims that the HomePod currently only holds 6% of the smartspeaker market in the U.S. This means there are roughly 4 million of the units out in the wild. This has it trailing well behind Amazon\\'s (NASDAQ: AMZN ) Echo line with its 70% share of the market and Alphabet\\'s (NASDAQ: GOOG , GOOGL ) Google Home with its 24% share of the market.\\n\\nAs of this writing, William White did not hold a position in any of the aforementioned securities. Compare Brokers\\n\\nThe post Tuesday Apple Rumors: Hololens Co-Inventor Avi Bar-Zeev Leaves Apple appeared first on InvestorPlace .'"
      ]
     },
     "execution_count": 52,
     "metadata": {},
     "output_type": "execute_result"
    }
   ],
   "source": [
    "from newspaper import Article\n",
    "\n",
    "article = Article(test_url)\n",
    "article.download()\n",
    "article.parse()\n",
    "article.nlp()\n",
    "article.summary\n",
    "article.text"
   ]
  },
  {
   "cell_type": "markdown",
   "metadata": {},
   "source": [
    "## Let's Test the `sentiment_utils` we wrote"
   ]
  },
  {
   "cell_type": "code",
   "execution_count": 69,
   "metadata": {},
   "outputs": [],
   "source": [
    "example_no = 38\n",
    "test_url = data['urls'][example_no]\n",
    "test_article = data['article'][example_no]\n",
    "ticker = data['stockcode'][example_no]\n",
    "\n",
    "from sentiment_utils import GetCleanText, GetSummary, GetRelavency, GetSentimentScore, Stock_KW_Dict"
   ]
  },
  {
   "cell_type": "code",
   "execution_count": 71,
   "metadata": {},
   "outputs": [
    {
     "ename": "NameError",
     "evalue": "name 'test_article_clean' is not defined",
     "output_type": "error",
     "traceback": [
      "\u001b[0;31m---------------------------------------------------------------------------\u001b[0m",
      "\u001b[0;31mNameError\u001b[0m                                 Traceback (most recent call last)",
      "\u001b[0;32m<ipython-input-71-bc1e8517c566>\u001b[0m in \u001b[0;36m<module>\u001b[0;34m\u001b[0m\n\u001b[1;32m      3\u001b[0m \u001b[0;34m\u001b[0m\u001b[0m\n\u001b[1;32m      4\u001b[0m \u001b[0;31m# 2. Summarize\u001b[0m\u001b[0;34m\u001b[0m\u001b[0;34m\u001b[0m\u001b[0m\n\u001b[0;32m----> 5\u001b[0;31m \u001b[0msummary_\u001b[0m \u001b[0;34m=\u001b[0m \u001b[0mGetSummary\u001b[0m\u001b[0;34m(\u001b[0m \u001b[0marticle_\u001b[0m \u001b[0;34m,\u001b[0m \u001b[0mmethod\u001b[0m \u001b[0;34m=\u001b[0m \u001b[0;34m'summa'\u001b[0m\u001b[0;34m)\u001b[0m\u001b[0;34m\u001b[0m\u001b[0m\n\u001b[0m\u001b[1;32m      6\u001b[0m \u001b[0;34m\u001b[0m\u001b[0m\n\u001b[1;32m      7\u001b[0m \u001b[0;31m# 3. Relavency\u001b[0m\u001b[0;34m\u001b[0m\u001b[0;34m\u001b[0m\u001b[0m\n",
      "\u001b[0;32m~/Public/Git/_sendash/study_stocks_sentiments/sentiment_utils.py\u001b[0m in \u001b[0;36mGetSummary\u001b[0;34m(inText, method)\u001b[0m\n\u001b[1;32m     77\u001b[0m \u001b[0;34m\u001b[0m\u001b[0m\n\u001b[1;32m     78\u001b[0m     \u001b[0;32melif\u001b[0m \u001b[0mmethod\u001b[0m \u001b[0;34m==\u001b[0m \u001b[0;34m'summa'\u001b[0m\u001b[0;34m:\u001b[0m\u001b[0;34m\u001b[0m\u001b[0m\n\u001b[0;32m---> 79\u001b[0;31m         \u001b[0msummary_summa\u001b[0m \u001b[0;34m=\u001b[0m \u001b[0msummarizer\u001b[0m\u001b[0;34m.\u001b[0m\u001b[0msummarize\u001b[0m\u001b[0;34m(\u001b[0m\u001b[0minText\u001b[0m\u001b[0;34m,\u001b[0m \u001b[0mratio\u001b[0m \u001b[0;34m=\u001b[0m \u001b[0;36m0.3\u001b[0m\u001b[0;34m)\u001b[0m\u001b[0;34m\u001b[0m\u001b[0m\n\u001b[0m\u001b[1;32m     80\u001b[0m         \u001b[0msummary_summa\u001b[0m\u001b[0;34m\u001b[0m\u001b[0m\n\u001b[1;32m     81\u001b[0m     \u001b[0;32melse\u001b[0m\u001b[0;34m:\u001b[0m\u001b[0;34m\u001b[0m\u001b[0m\n",
      "\u001b[0;31mNameError\u001b[0m: name 'test_article_clean' is not defined"
     ]
    }
   ],
   "source": [
    "# 1. Clean\n",
    "article_ = GetCleanText(test_article)\n",
    "\n",
    "# 2. Summarize\n",
    "summary_ = GetSummary( article_ , method = 'summa')\n",
    "\n",
    "# 3. Relavency\n",
    "relavence_ = GetRelavency( summary_, Stock_KW_Dict[ticker])\n",
    "\n",
    "# 4. Sentiment\n",
    "sentiment_ = GetSentimentScore( summary_, method = 'bespoke')\n",
    "\n",
    "print(f'--- Article Summary---\\n{summary_}\\n--- Relavency: {relavence_} ---\\n--- Sentiment: {sentiment_} ---')"
   ]
  },
  {
   "cell_type": "code",
   "execution_count": null,
   "metadata": {},
   "outputs": [],
   "source": []
  }
 ],
 "metadata": {
  "kernelspec": {
   "display_name": "Python 3",
   "language": "python",
   "name": "python3"
  },
  "language_info": {
   "codemirror_mode": {
    "name": "ipython",
    "version": 3
   },
   "file_extension": ".py",
   "mimetype": "text/x-python",
   "name": "python",
   "nbconvert_exporter": "python",
   "pygments_lexer": "ipython3",
   "version": "3.6.3"
  }
 },
 "nbformat": 4,
 "nbformat_minor": 2
}
