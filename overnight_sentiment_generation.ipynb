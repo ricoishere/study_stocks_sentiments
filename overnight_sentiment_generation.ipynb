{
 "cells": [
  {
   "cell_type": "markdown",
   "metadata": {},
   "source": [
    "# Overnight News Sentiment\n",
    "With some scraping magic, our team collected news headlines for our `FANG` Stocks from `https://www.nasdaq.com/symbol/{ticker}/news-headlines` into `dataset/nasdaq/FANG.csv`\n",
    "\n",
    "With the `mkt_dt_utils` and `sentiment_utils` we created, we can compute **Overnight News Sentiments** for a given stock for the purpose of doing studies against overnight stock returns"
   ]
  },
  {
   "cell_type": "markdown",
   "metadata": {},
   "source": [
    "## Let's Load Our Data"
   ]
  },
  {
   "cell_type": "code",
   "execution_count": 15,
   "metadata": {},
   "outputs": [],
   "source": [
    "import pandas as pd\n",
    "import numpy as np"
   ]
  },
  {
   "cell_type": "code",
   "execution_count": 16,
   "metadata": {},
   "outputs": [],
   "source": [
    "fname = 'dataset/nasdaq/raw.csv'\n",
    "data = pd.read_csv( fname, header = 0, index_col = None)"
   ]
  },
  {
   "cell_type": "code",
   "execution_count": 17,
   "metadata": {},
   "outputs": [
    {
     "data": {
      "text/html": [
       "<div>\n",
       "<style scoped>\n",
       "    .dataframe tbody tr th:only-of-type {\n",
       "        vertical-align: middle;\n",
       "    }\n",
       "\n",
       "    .dataframe tbody tr th {\n",
       "        vertical-align: top;\n",
       "    }\n",
       "\n",
       "    .dataframe thead th {\n",
       "        text-align: right;\n",
       "    }\n",
       "</style>\n",
       "<table border=\"1\" class=\"dataframe\">\n",
       "  <thead>\n",
       "    <tr style=\"text-align: right;\">\n",
       "      <th></th>\n",
       "      <th>datetime</th>\n",
       "      <th>stockcode</th>\n",
       "      <th>source</th>\n",
       "      <th>headline</th>\n",
       "      <th>article</th>\n",
       "      <th>urls</th>\n",
       "    </tr>\n",
       "  </thead>\n",
       "  <tbody>\n",
       "    <tr>\n",
       "      <th>6400</th>\n",
       "      <td>February 04, 2019, 03:26:00 PM EDT</td>\n",
       "      <td>NFLX</td>\n",
       "      <td>Zacks.com</td>\n",
       "      <td>Super Bowl Spending, Streaming &amp; Amazon's Big ...</td>\n",
       "      <td>\\n     Welcome to the latest episode of the Fu...</td>\n",
       "      <td>https://www.nasdaq.com/article/super-bowl-spen...</td>\n",
       "    </tr>\n",
       "    <tr>\n",
       "      <th>6401</th>\n",
       "      <td>February 04, 2019, 01:24:00 PM EDT</td>\n",
       "      <td>NFLX</td>\n",
       "      <td>Zacks.com</td>\n",
       "      <td>Buy Apple (AAPL) Stock on Streaming TV Push to...</td>\n",
       "      <td>\\n Shares of Apple AAPL  jumped over 2.5% Mond...</td>\n",
       "      <td>https://www.nasdaq.com/article/buy-apple-aapl-...</td>\n",
       "    </tr>\n",
       "    <tr>\n",
       "      <th>6402</th>\n",
       "      <td>February 04, 2019, 12:42:43 PM EDT</td>\n",
       "      <td>NFLX</td>\n",
       "      <td>InvestorPlace Media</td>\n",
       "      <td>3 Must-Watch Comic Book Movies on Netflix</td>\n",
       "      <td>\\nInvestorPlace - Stock Market News, Stock Adv...</td>\n",
       "      <td>https://www.nasdaq.com/article/3-must-watch-co...</td>\n",
       "    </tr>\n",
       "    <tr>\n",
       "      <th>6403</th>\n",
       "      <td>February 04, 2019, 12:36:05 PM EDT</td>\n",
       "      <td>NFLX</td>\n",
       "      <td>InvestorPlace Media</td>\n",
       "      <td>2 Crazy Acquisitions That Would Boost Alphabet...</td>\n",
       "      <td>\\nInvestorPlace - Stock Market News, Stock Adv...</td>\n",
       "      <td>https://www.nasdaq.com/article/2-crazy-acquisi...</td>\n",
       "    </tr>\n",
       "    <tr>\n",
       "      <th>6404</th>\n",
       "      <td>February 04, 2019, 04:38:00 PM EDT</td>\n",
       "      <td>NFLX</td>\n",
       "      <td>NaN</td>\n",
       "      <td>US STOCKS-Boost in tech shares sends Wall Stre...</td>\n",
       "      <td>\\n\\n\\nShutterstock photo\\n\\n@media screen and ...</td>\n",
       "      <td>https://www.nasdaq.com/article/us-stocksboost-...</td>\n",
       "    </tr>\n",
       "  </tbody>\n",
       "</table>\n",
       "</div>"
      ],
      "text/plain": [
       "                                datetime stockcode               source  \\\n",
       "6400  February 04, 2019, 03:26:00 PM EDT      NFLX            Zacks.com   \n",
       "6401  February 04, 2019, 01:24:00 PM EDT      NFLX            Zacks.com   \n",
       "6402  February 04, 2019, 12:42:43 PM EDT      NFLX  InvestorPlace Media   \n",
       "6403  February 04, 2019, 12:36:05 PM EDT      NFLX  InvestorPlace Media   \n",
       "6404  February 04, 2019, 04:38:00 PM EDT      NFLX                  NaN   \n",
       "\n",
       "                                               headline  \\\n",
       "6400  Super Bowl Spending, Streaming & Amazon's Big ...   \n",
       "6401  Buy Apple (AAPL) Stock on Streaming TV Push to...   \n",
       "6402          3 Must-Watch Comic Book Movies on Netflix   \n",
       "6403  2 Crazy Acquisitions That Would Boost Alphabet...   \n",
       "6404  US STOCKS-Boost in tech shares sends Wall Stre...   \n",
       "\n",
       "                                                article  \\\n",
       "6400  \\n     Welcome to the latest episode of the Fu...   \n",
       "6401  \\n Shares of Apple AAPL  jumped over 2.5% Mond...   \n",
       "6402  \\nInvestorPlace - Stock Market News, Stock Adv...   \n",
       "6403  \\nInvestorPlace - Stock Market News, Stock Adv...   \n",
       "6404  \\n\\n\\nShutterstock photo\\n\\n@media screen and ...   \n",
       "\n",
       "                                                   urls  \n",
       "6400  https://www.nasdaq.com/article/super-bowl-spen...  \n",
       "6401  https://www.nasdaq.com/article/buy-apple-aapl-...  \n",
       "6402  https://www.nasdaq.com/article/3-must-watch-co...  \n",
       "6403  https://www.nasdaq.com/article/2-crazy-acquisi...  \n",
       "6404  https://www.nasdaq.com/article/us-stocksboost-...  "
      ]
     },
     "execution_count": 17,
     "metadata": {},
     "output_type": "execute_result"
    }
   ],
   "source": [
    "data.tail()"
   ]
  },
  {
   "cell_type": "code",
   "execution_count": 18,
   "metadata": {},
   "outputs": [],
   "source": [
    "# data['timestring'] = data.index\n",
    "# data['timestring'] = data['timestring'].astype('str')\n",
    "data['datetime'] = data['datetime'].astype('str')\n",
    "data['tz'] = data['datetime'].apply( lambda x: x[-3:])"
   ]
  },
  {
   "cell_type": "code",
   "execution_count": 19,
   "metadata": {},
   "outputs": [
    {
     "data": {
      "text/html": [
       "<div>\n",
       "<style scoped>\n",
       "    .dataframe tbody tr th:only-of-type {\n",
       "        vertical-align: middle;\n",
       "    }\n",
       "\n",
       "    .dataframe tbody tr th {\n",
       "        vertical-align: top;\n",
       "    }\n",
       "\n",
       "    .dataframe thead th {\n",
       "        text-align: right;\n",
       "    }\n",
       "</style>\n",
       "<table border=\"1\" class=\"dataframe\">\n",
       "  <thead>\n",
       "    <tr style=\"text-align: right;\">\n",
       "      <th></th>\n",
       "      <th>datetime</th>\n",
       "      <th>stockcode</th>\n",
       "      <th>source</th>\n",
       "      <th>headline</th>\n",
       "      <th>article</th>\n",
       "      <th>urls</th>\n",
       "      <th>tz</th>\n",
       "    </tr>\n",
       "  </thead>\n",
       "  <tbody>\n",
       "    <tr>\n",
       "      <th>545</th>\n",
       "      <td>nan</td>\n",
       "      <td>AMZN</td>\n",
       "      <td>NaN</td>\n",
       "      <td>The Zacks Analyst Blog Highlights: Netflix, Di...</td>\n",
       "      <td>\\n\\n\\nShutterstock photo\\n\\n\\n\\n\\n\\n\\n\\r\\n    ...</td>\n",
       "      <td>https://www.nasdaq.com/article/the-zacks-analy...</td>\n",
       "      <td>nan</td>\n",
       "    </tr>\n",
       "    <tr>\n",
       "      <th>551</th>\n",
       "      <td>nan</td>\n",
       "      <td>AMZN</td>\n",
       "      <td>NaN</td>\n",
       "      <td>Amazon Announces New Job Positions for New Yor...</td>\n",
       "      <td>\\n\\n\\nShutterstock photo\\n\\n\\n\\n\\n\\n\\n\\r\\n    ...</td>\n",
       "      <td>https://www.nasdaq.com/article/amazon-announce...</td>\n",
       "      <td>nan</td>\n",
       "    </tr>\n",
       "    <tr>\n",
       "      <th>582</th>\n",
       "      <td>nan</td>\n",
       "      <td>AMZN</td>\n",
       "      <td>NaN</td>\n",
       "      <td>Why Amazon (AMZN) is Poised to Beat Earnings E...</td>\n",
       "      <td>\\n\\n\\nShutterstock photo\\n\\n\\n\\n\\n\\n\\n\\r\\n    ...</td>\n",
       "      <td>https://www.nasdaq.com/article/why-amazon-amzn...</td>\n",
       "      <td>nan</td>\n",
       "    </tr>\n",
       "    <tr>\n",
       "      <th>602</th>\n",
       "      <td>nan</td>\n",
       "      <td>AMZN</td>\n",
       "      <td>NaN</td>\n",
       "      <td>Amazon (AMZN) Dips More Than Broader Markets: ...</td>\n",
       "      <td>\\n\\n\\nShutterstock photo\\n\\n\\n\\n\\n\\n\\n\\r\\n    ...</td>\n",
       "      <td>https://www.nasdaq.com/article/amazon-amzn-dip...</td>\n",
       "      <td>nan</td>\n",
       "    </tr>\n",
       "    <tr>\n",
       "      <th>2061</th>\n",
       "      <td>nan</td>\n",
       "      <td>GOOGL</td>\n",
       "      <td>NaN</td>\n",
       "      <td>Amazon Announces New Job Positions for New Yor...</td>\n",
       "      <td>\\n\\n\\nShutterstock photo\\n\\n\\n\\n\\n\\n\\n\\r\\n    ...</td>\n",
       "      <td>https://www.nasdaq.com/article/amazon-announce...</td>\n",
       "      <td>nan</td>\n",
       "    </tr>\n",
       "    <tr>\n",
       "      <th>2089</th>\n",
       "      <td>nan</td>\n",
       "      <td>GOOGL</td>\n",
       "      <td>NaN</td>\n",
       "      <td>Alphabet (GOOGL) Dips More Than Broader Market...</td>\n",
       "      <td>\\n\\n\\nShutterstock photo\\n\\n\\n\\n\\n\\n\\n\\r\\n    ...</td>\n",
       "      <td>https://www.nasdaq.com/article/alphabet-googl-...</td>\n",
       "      <td>nan</td>\n",
       "    </tr>\n",
       "    <tr>\n",
       "      <th>4992</th>\n",
       "      <td>nan</td>\n",
       "      <td>NFLX</td>\n",
       "      <td>NaN</td>\n",
       "      <td>The Zacks Analyst Blog Highlights: Netflix, Di...</td>\n",
       "      <td>\\n\\n\\nShutterstock photo\\n\\n\\n\\n\\n\\n\\n\\r\\n    ...</td>\n",
       "      <td>https://www.nasdaq.com/article/the-zacks-analy...</td>\n",
       "      <td>nan</td>\n",
       "    </tr>\n",
       "  </tbody>\n",
       "</table>\n",
       "</div>"
      ],
      "text/plain": [
       "     datetime stockcode source  \\\n",
       "545       nan      AMZN    NaN   \n",
       "551       nan      AMZN    NaN   \n",
       "582       nan      AMZN    NaN   \n",
       "602       nan      AMZN    NaN   \n",
       "2061      nan     GOOGL    NaN   \n",
       "2089      nan     GOOGL    NaN   \n",
       "4992      nan      NFLX    NaN   \n",
       "\n",
       "                                               headline  \\\n",
       "545   The Zacks Analyst Blog Highlights: Netflix, Di...   \n",
       "551   Amazon Announces New Job Positions for New Yor...   \n",
       "582   Why Amazon (AMZN) is Poised to Beat Earnings E...   \n",
       "602   Amazon (AMZN) Dips More Than Broader Markets: ...   \n",
       "2061  Amazon Announces New Job Positions for New Yor...   \n",
       "2089  Alphabet (GOOGL) Dips More Than Broader Market...   \n",
       "4992  The Zacks Analyst Blog Highlights: Netflix, Di...   \n",
       "\n",
       "                                                article  \\\n",
       "545   \\n\\n\\nShutterstock photo\\n\\n\\n\\n\\n\\n\\n\\r\\n    ...   \n",
       "551   \\n\\n\\nShutterstock photo\\n\\n\\n\\n\\n\\n\\n\\r\\n    ...   \n",
       "582   \\n\\n\\nShutterstock photo\\n\\n\\n\\n\\n\\n\\n\\r\\n    ...   \n",
       "602   \\n\\n\\nShutterstock photo\\n\\n\\n\\n\\n\\n\\n\\r\\n    ...   \n",
       "2061  \\n\\n\\nShutterstock photo\\n\\n\\n\\n\\n\\n\\n\\r\\n    ...   \n",
       "2089  \\n\\n\\nShutterstock photo\\n\\n\\n\\n\\n\\n\\n\\r\\n    ...   \n",
       "4992  \\n\\n\\nShutterstock photo\\n\\n\\n\\n\\n\\n\\n\\r\\n    ...   \n",
       "\n",
       "                                                   urls   tz  \n",
       "545   https://www.nasdaq.com/article/the-zacks-analy...  nan  \n",
       "551   https://www.nasdaq.com/article/amazon-announce...  nan  \n",
       "582   https://www.nasdaq.com/article/why-amazon-amzn...  nan  \n",
       "602   https://www.nasdaq.com/article/amazon-amzn-dip...  nan  \n",
       "2061  https://www.nasdaq.com/article/amazon-announce...  nan  \n",
       "2089  https://www.nasdaq.com/article/alphabet-googl-...  nan  \n",
       "4992  https://www.nasdaq.com/article/the-zacks-analy...  nan  "
      ]
     },
     "execution_count": 19,
     "metadata": {},
     "output_type": "execute_result"
    }
   ],
   "source": [
    "data[data['tz']!= 'EDT']"
   ]
  },
  {
   "cell_type": "markdown",
   "metadata": {},
   "source": [
    "### Remove Bad Data"
   ]
  },
  {
   "cell_type": "code",
   "execution_count": 29,
   "metadata": {},
   "outputs": [
    {
     "name": "stdout",
     "output_type": "stream",
     "text": [
      "Dataset has 6021 points, of which; 0 are duplicates, and 7 are missing DateTime info.\n"
     ]
    }
   ],
   "source": [
    "dup_filter = data.duplicated()\n",
    "na_dt = pd.to_datetime(data['datetime']).isna() #data.datetime.isna()\n",
    "\n",
    "print(f'Dataset has {len(data)} points, of which; {sum(dup_filter)} are duplicates, and {sum(na_dt)} are missing DateTime info.')"
   ]
  },
  {
   "cell_type": "code",
   "execution_count": 30,
   "metadata": {},
   "outputs": [
    {
     "name": "stderr",
     "output_type": "stream",
     "text": [
      "/Users/JHO/.virtualenvs/VADER/lib/python3.6/site-packages/dateutil/parser/_parser.py:1206: UnknownTimezoneWarning: tzname EDT identified but not understood.  Pass `tzinfos` argument in order to correctly return a timezone-aware datetime.  In a future version, this will raise an exception.\n",
      "  category=UnknownTimezoneWarning)\n"
     ]
    },
    {
     "name": "stdout",
     "output_type": "stream",
     "text": [
      "After cleaning we have 6014 data points\n"
     ]
    }
   ],
   "source": [
    "data = data.drop_duplicates()\n",
    "data = data[ - pd.to_datetime(data.datetime).isna()]\n",
    "print(f'After cleaning we have {len(data)} data points')"
   ]
  },
  {
   "cell_type": "code",
   "execution_count": 22,
   "metadata": {},
   "outputs": [],
   "source": [
    "data['tz'] = data['tz'].apply( lambda x : 'EST' if x == 'EDT' else x)\n",
    "data['dt'] = pd.to_datetime(data['datetime']).dt.tz_localize('EST')"
   ]
  },
  {
   "cell_type": "code",
   "execution_count": 8,
   "metadata": {
    "scrolled": true
   },
   "outputs": [
    {
     "data": {
      "text/html": [
       "<div>\n",
       "<style scoped>\n",
       "    .dataframe tbody tr th:only-of-type {\n",
       "        vertical-align: middle;\n",
       "    }\n",
       "\n",
       "    .dataframe tbody tr th {\n",
       "        vertical-align: top;\n",
       "    }\n",
       "\n",
       "    .dataframe thead th {\n",
       "        text-align: right;\n",
       "    }\n",
       "</style>\n",
       "<table border=\"1\" class=\"dataframe\">\n",
       "  <thead>\n",
       "    <tr style=\"text-align: right;\">\n",
       "      <th></th>\n",
       "      <th>datetime</th>\n",
       "      <th>stockcode</th>\n",
       "      <th>source</th>\n",
       "      <th>headline</th>\n",
       "      <th>article</th>\n",
       "      <th>urls</th>\n",
       "      <th>tz</th>\n",
       "      <th>dt</th>\n",
       "    </tr>\n",
       "  </thead>\n",
       "  <tbody>\n",
       "    <tr>\n",
       "      <th>0</th>\n",
       "      <td>February 07, 2019, 09:11:00 PM EDT</td>\n",
       "      <td>AMZN</td>\n",
       "      <td>NaN</td>\n",
       "      <td>Amazon CEO Jeff Bezos Accuses National Enquire...</td>\n",
       "      <td>\\n\\n\\nShutterstock photo\\n\\n@media screen and ...</td>\n",
       "      <td>https://www.nasdaq.com/article/amazon-ceo-jeff...</td>\n",
       "      <td>EST</td>\n",
       "      <td>2019-02-07 21:11:00-05:00</td>\n",
       "    </tr>\n",
       "    <tr>\n",
       "      <th>1</th>\n",
       "      <td>February 07, 2019, 02:49:22 PM EDT</td>\n",
       "      <td>AMZN</td>\n",
       "      <td>BNK Invest</td>\n",
       "      <td>Notable Thursday Option Activity: AMZN, BKNG, ...</td>\n",
       "      <td>\\nAmong the underlying components of the S&amp;P 5...</td>\n",
       "      <td>https://www.nasdaq.com/article/notable-thursda...</td>\n",
       "      <td>EST</td>\n",
       "      <td>2019-02-07 14:49:22-05:00</td>\n",
       "    </tr>\n",
       "    <tr>\n",
       "      <th>2</th>\n",
       "      <td>February 07, 2019, 06:55:00 PM EDT</td>\n",
       "      <td>AMZN</td>\n",
       "      <td>NaN</td>\n",
       "      <td>Amazon's Bezos says National Enquirer owner tr...</td>\n",
       "      <td>\\n\\n\\nReuters\\n\\n@media screen and (max-device...</td>\n",
       "      <td>https://www.nasdaq.com/article/amazons-bezos-s...</td>\n",
       "      <td>EST</td>\n",
       "      <td>2019-02-07 18:55:00-05:00</td>\n",
       "    </tr>\n",
       "    <tr>\n",
       "      <th>3</th>\n",
       "      <td>February 07, 2019, 06:26:00 PM EDT</td>\n",
       "      <td>AMZN</td>\n",
       "      <td>NaN</td>\n",
       "      <td>Amazon's Bezos says National Enquirer tried to...</td>\n",
       "      <td>\\n\\n\\nReuters\\n\\n@media screen and (max-device...</td>\n",
       "      <td>https://www.nasdaq.com/article/amazons-bezos-s...</td>\n",
       "      <td>EST</td>\n",
       "      <td>2019-02-07 18:26:00-05:00</td>\n",
       "    </tr>\n",
       "    <tr>\n",
       "      <th>4</th>\n",
       "      <td>February 07, 2019, 11:55:45 AM EDT</td>\n",
       "      <td>AMZN</td>\n",
       "      <td>InvestorPlace Media</td>\n",
       "      <td>IRS Tax Refund 2019: So, Where’s My Tax Refund?</td>\n",
       "      <td>\\nInvestorPlace - Stock Market News, Stock Adv...</td>\n",
       "      <td>https://www.nasdaq.com/article/irs-tax-refund-...</td>\n",
       "      <td>EST</td>\n",
       "      <td>2019-02-07 11:55:45-05:00</td>\n",
       "    </tr>\n",
       "  </tbody>\n",
       "</table>\n",
       "</div>"
      ],
      "text/plain": [
       "                             datetime stockcode               source  \\\n",
       "0  February 07, 2019, 09:11:00 PM EDT      AMZN                  NaN   \n",
       "1  February 07, 2019, 02:49:22 PM EDT      AMZN           BNK Invest   \n",
       "2  February 07, 2019, 06:55:00 PM EDT      AMZN                  NaN   \n",
       "3  February 07, 2019, 06:26:00 PM EDT      AMZN                  NaN   \n",
       "4  February 07, 2019, 11:55:45 AM EDT      AMZN  InvestorPlace Media   \n",
       "\n",
       "                                            headline  \\\n",
       "0  Amazon CEO Jeff Bezos Accuses National Enquire...   \n",
       "1  Notable Thursday Option Activity: AMZN, BKNG, ...   \n",
       "2  Amazon's Bezos says National Enquirer owner tr...   \n",
       "3  Amazon's Bezos says National Enquirer tried to...   \n",
       "4    IRS Tax Refund 2019: So, Where’s My Tax Refund?   \n",
       "\n",
       "                                             article  \\\n",
       "0  \\n\\n\\nShutterstock photo\\n\\n@media screen and ...   \n",
       "1  \\nAmong the underlying components of the S&P 5...   \n",
       "2  \\n\\n\\nReuters\\n\\n@media screen and (max-device...   \n",
       "3  \\n\\n\\nReuters\\n\\n@media screen and (max-device...   \n",
       "4  \\nInvestorPlace - Stock Market News, Stock Adv...   \n",
       "\n",
       "                                                urls   tz  \\\n",
       "0  https://www.nasdaq.com/article/amazon-ceo-jeff...  EST   \n",
       "1  https://www.nasdaq.com/article/notable-thursda...  EST   \n",
       "2  https://www.nasdaq.com/article/amazons-bezos-s...  EST   \n",
       "3  https://www.nasdaq.com/article/amazons-bezos-s...  EST   \n",
       "4  https://www.nasdaq.com/article/irs-tax-refund-...  EST   \n",
       "\n",
       "                         dt  \n",
       "0 2019-02-07 21:11:00-05:00  \n",
       "1 2019-02-07 14:49:22-05:00  \n",
       "2 2019-02-07 18:55:00-05:00  \n",
       "3 2019-02-07 18:26:00-05:00  \n",
       "4 2019-02-07 11:55:45-05:00  "
      ]
     },
     "execution_count": 8,
     "metadata": {},
     "output_type": "execute_result"
    }
   ],
   "source": [
    "data.head()"
   ]
  },
  {
   "cell_type": "markdown",
   "metadata": {},
   "source": [
    "## Read Pre-existing DF and only work on New records"
   ]
  },
  {
   "cell_type": "code",
   "execution_count": 128,
   "metadata": {},
   "outputs": [
    {
     "data": {
      "text/plain": [
       "0"
      ]
     },
     "execution_count": 128,
     "metadata": {},
     "output_type": "execute_result"
    }
   ],
   "source": [
    "output_fname = 'dataset/nasdaq/overnight_sentiments.csv'\n",
    "\n",
    "old_df = pd.read_csv(output_fname, index_col = 0)\n",
    "\n",
    "l_new = [(url in old_df['urls']) for url in data['urls']]\n",
    "\n",
    "sum(l_new)"
   ]
  },
  {
   "cell_type": "code",
   "execution_count": 132,
   "metadata": {},
   "outputs": [
    {
     "data": {
      "text/plain": [
       "'https://www.nasdaq.com/article/amazon-ceo-jeff-bezos-accuses-national-enquirer-owner-of-extortion--blackmail-20190207-01538'"
      ]
     },
     "execution_count": 132,
     "metadata": {},
     "output_type": "execute_result"
    }
   ],
   "source": [
    "test_url = data['urls'][0]\n",
    "test_url"
   ]
  },
  {
   "cell_type": "code",
   "execution_count": 133,
   "metadata": {},
   "outputs": [
    {
     "data": {
      "text/plain": [
       "False"
      ]
     },
     "execution_count": 133,
     "metadata": {},
     "output_type": "execute_result"
    }
   ],
   "source": [
    "test_url in old_df['urls']"
   ]
  },
  {
   "cell_type": "code",
   "execution_count": null,
   "metadata": {},
   "outputs": [],
   "source": []
  },
  {
   "cell_type": "code",
   "execution_count": 130,
   "metadata": {},
   "outputs": [
    {
     "data": {
      "text/plain": [
       "'https://www.nasdaq.com/article/amazon-ceo-jeff-bezos-accuses-national-enquirer-owner-of-extortion--blackmail-20190207-01538'"
      ]
     },
     "execution_count": 130,
     "metadata": {},
     "output_type": "execute_result"
    }
   ],
   "source": [
    "old_df['urls'][0]"
   ]
  },
  {
   "cell_type": "markdown",
   "metadata": {},
   "source": [
    "## Label Overnight News and Output Next Market Date"
   ]
  },
  {
   "cell_type": "code",
   "execution_count": 38,
   "metadata": {
    "scrolled": true
   },
   "outputs": [
    {
     "name": "stdout",
     "output_type": "stream",
     "text": [
      "Filtering for 6014 Overnight News Articles...\n",
      "Determining Trade Date for Overnight News Articles...\n"
     ]
    },
    {
     "name": "stderr",
     "output_type": "stream",
     "text": [
      "/Users/JHO/.virtualenvs/VADER/lib/python3.6/site-packages/ipykernel_launcher.py:24: SettingWithCopyWarning: \n",
      "A value is trying to be set on a copy of a slice from a DataFrame.\n",
      "Try using .loc[row_indexer,col_indexer] = value instead\n",
      "\n",
      "See the caveats in the documentation: http://pandas.pydata.org/pandas-docs/stable/indexing.html#indexing-view-versus-copy\n"
     ]
    },
    {
     "name": "stdout",
     "output_type": "stream",
     "text": [
      "Time elapsed 1 hours, 29 minutes, 47 seconds.\n"
     ]
    }
   ],
   "source": [
    "from datetime import datetime\n",
    "from mkt_dt_utils import IsMarketOpen, GetNextMktDate, days_hours_mins_secs\n",
    "\n",
    "temp_fname = 'dataset/nasdaq/overnight_sentiments_temp.csv'\n",
    "ExchgName = 'NYSE'\n",
    "data_limit = None #10\n",
    "\n",
    "df = data.drop(columns= ['tz'])\n",
    "if data_limit:\n",
    "    df = df[: data_limit]\n",
    "\n",
    "stime = datetime.now()\n",
    "print(f'Filtering for {len(df)} Overnight News Articles...')\n",
    "df['IsMarketOpen'] = df['dt'].apply(\n",
    "    lambda x: IsMarketOpen(x.to_pydatetime(), ExchgName)    \n",
    "    )\n",
    "\n",
    "df.to_csv(temp_fname)\n",
    "\n",
    "print(f'Determining Trade Date for Overnight News Articles...')\n",
    "df_on = df[df['IsMarketOpen'] == False]\n",
    "df_on['TradeDate'] = df_on.apply(\n",
    "    lambda x: GetNextMktDate(x['dt'].to_pydatetime(),ExchgName),\n",
    "    axis =1\n",
    "    )\n",
    "\n",
    "df_on.to_csv(temp_fname)\n",
    "\n",
    "ttime = datetime.now() - stime\n",
    "d_ , h_, m_ , s_ = days_hours_mins_secs(ttime)\n",
    "print(f'Time elapsed {h_} hours, {m_} minutes, {s_} seconds.')"
   ]
  },
  {
   "cell_type": "code",
   "execution_count": 39,
   "metadata": {},
   "outputs": [
    {
     "name": "stdout",
     "output_type": "stream",
     "text": [
      "--- Only 3148 of 6014 are overnight news ---\n"
     ]
    }
   ],
   "source": [
    "print(f'--- Only {len(df_on)} of {len(df)} are overnight news ---')"
   ]
  },
  {
   "cell_type": "markdown",
   "metadata": {},
   "source": [
    "## Generate Relevance + Sentiment for each Article"
   ]
  },
  {
   "cell_type": "code",
   "execution_count": 17,
   "metadata": {},
   "outputs": [],
   "source": [
    "import pandas as pd\n",
    "from datetime import datetime\n",
    "from mkt_dt_utils import days_hours_mins_secs\n",
    "\n",
    "temp_fname = 'dataset/nasdaq/overnight_sentiments_temp.csv'\n",
    "\n",
    "#df_ = df_on\n",
    "tmp_fname = 'dataset/nasdaq/overnight_sentiments_temp_0.csv'\n",
    "df_ = pd.read_csv(tmp_fname, index_col = 0)"
   ]
  },
  {
   "cell_type": "code",
   "execution_count": 18,
   "metadata": {},
   "outputs": [
    {
     "name": "stdout",
     "output_type": "stream",
     "text": [
      "Summarizing 3148 overnight news article...\n",
      "Time elapsed 0 hours, 3 minutes, 29 seconds.\n"
     ]
    }
   ],
   "source": [
    "from sentiment_utils import GetCleanText, GetSummary, GetRelavency, GetSentimentScore, Stock_KW_Dict\n",
    "\n",
    "stime = datetime.now()\n",
    "\n",
    "# 1. Clean + Summarize\n",
    "print(f'Summarizing {len(df_)} overnight news article...')\n",
    "df_['summary'] = df_['article'].apply(\n",
    "    lambda x : GetSummary(GetCleanText( x ), method = 'sumy-lex_rank')\n",
    ")\n",
    "\n",
    "df_.to_csv(temp_fname)\n",
    "\n",
    "ttime = datetime.now() - stime\n",
    "d_ , h_, m_ , s_ = days_hours_mins_secs(ttime)\n",
    "print(f'Time elapsed {h_} hours, {m_} minutes, {s_} seconds.')"
   ]
  },
  {
   "cell_type": "code",
   "execution_count": 17,
   "metadata": {},
   "outputs": [
    {
     "name": "stdout",
     "output_type": "stream",
     "text": [
      "Determining overnight news article relavance...\n"
     ]
    },
    {
     "name": "stderr",
     "output_type": "stream",
     "text": [
      "/Users/JHO/.virtualenvs/VADER/lib/python3.6/site-packages/ipykernel_launcher.py:5: SettingWithCopyWarning: \n",
      "A value is trying to be set on a copy of a slice from a DataFrame.\n",
      "Try using .loc[row_indexer,col_indexer] = value instead\n",
      "\n",
      "See the caveats in the documentation: http://pandas.pydata.org/pandas-docs/stable/indexing.html#indexing-view-versus-copy\n",
      "  \"\"\"\n"
     ]
    }
   ],
   "source": [
    "# 3. Relavency\n",
    "print(f'Determining {len(df_)} overnight news article relavance...')\n",
    "df_['_relevance'] = df_.apply(\n",
    "    lambda x: GetRelavency( x['summary'], Stock_KW_Dict[ x['stockcode']], debugmode = False),\n",
    "    axis = 1\n",
    ")\n",
    "\n",
    "df_.to_csv(temp_fname)"
   ]
  },
  {
   "cell_type": "code",
   "execution_count": 19,
   "metadata": {},
   "outputs": [
    {
     "name": "stdout",
     "output_type": "stream",
     "text": [
      "Generating Sentiment Score...\n"
     ]
    },
    {
     "name": "stderr",
     "output_type": "stream",
     "text": [
      "/Users/JHO/.virtualenvs/VADER/lib/python3.6/site-packages/ipykernel_launcher.py:4: SettingWithCopyWarning: \n",
      "A value is trying to be set on a copy of a slice from a DataFrame.\n",
      "Try using .loc[row_indexer,col_indexer] = value instead\n",
      "\n",
      "See the caveats in the documentation: http://pandas.pydata.org/pandas-docs/stable/indexing.html#indexing-view-versus-copy\n",
      "  after removing the cwd from sys.path.\n"
     ]
    }
   ],
   "source": [
    "# 4. Sentiment\n",
    "print(f'Generating Sentiment Score...')\n",
    "df_on['_sentiment'] = df_on['summary'].apply(\n",
    "    lambda x: GetSentimentScore( x , method = 'bespoke') if x != '' else np.nan\n",
    ")\n",
    "\n",
    "df_on.to_csv(temp_fname)"
   ]
  },
  {
   "cell_type": "code",
   "execution_count": 21,
   "metadata": {},
   "outputs": [
    {
     "data": {
      "text/html": [
       "<div>\n",
       "<style scoped>\n",
       "    .dataframe tbody tr th:only-of-type {\n",
       "        vertical-align: middle;\n",
       "    }\n",
       "\n",
       "    .dataframe tbody tr th {\n",
       "        vertical-align: top;\n",
       "    }\n",
       "\n",
       "    .dataframe thead th {\n",
       "        text-align: right;\n",
       "    }\n",
       "</style>\n",
       "<table border=\"1\" class=\"dataframe\">\n",
       "  <thead>\n",
       "    <tr style=\"text-align: right;\">\n",
       "      <th></th>\n",
       "      <th>datetime</th>\n",
       "      <th>stockcode</th>\n",
       "      <th>source</th>\n",
       "      <th>headline</th>\n",
       "      <th>article</th>\n",
       "      <th>urls</th>\n",
       "      <th>dt</th>\n",
       "      <th>IsMarketOpen</th>\n",
       "      <th>TradeDate</th>\n",
       "      <th>summary</th>\n",
       "      <th>_relevance</th>\n",
       "      <th>_sentiment</th>\n",
       "    </tr>\n",
       "  </thead>\n",
       "  <tbody>\n",
       "    <tr>\n",
       "      <th>0</th>\n",
       "      <td>February 07, 2019, 09:11:00 PM EDT</td>\n",
       "      <td>AMZN</td>\n",
       "      <td>NaN</td>\n",
       "      <td>Amazon CEO Jeff Bezos Accuses National Enquire...</td>\n",
       "      <td>\\n\\n\\nShutterstock photo\\n\\n@media screen and ...</td>\n",
       "      <td>https://www.nasdaq.com/article/amazon-ceo-jeff...</td>\n",
       "      <td>2019-02-07 21:11:00-05:00</td>\n",
       "      <td>False</td>\n",
       "      <td>2019-02-08</td>\n",
       "      <td>Shutterstock photo@media screen and (Amazon CE...</td>\n",
       "      <td>{'Count': 11, 'sent_count': 3, 'freq': 3.66666...</td>\n",
       "      <td>0.717833</td>\n",
       "    </tr>\n",
       "    <tr>\n",
       "      <th>2</th>\n",
       "      <td>February 07, 2019, 06:55:00 PM EDT</td>\n",
       "      <td>AMZN</td>\n",
       "      <td>NaN</td>\n",
       "      <td>Amazon's Bezos says National Enquirer owner tr...</td>\n",
       "      <td>\\n\\n\\nReuters\\n\\n@media screen and (max-device...</td>\n",
       "      <td>https://www.nasdaq.com/article/amazons-bezos-s...</td>\n",
       "      <td>2019-02-07 18:55:00-05:00</td>\n",
       "      <td>False</td>\n",
       "      <td>2019-02-08</td>\n",
       "      <td>Jeff Bezos, chief executive of Amazon.com Inc,...</td>\n",
       "      <td>{'Count': 4, 'sent_count': 5, 'freq': 0.8}</td>\n",
       "      <td>0.647160</td>\n",
       "    </tr>\n",
       "    <tr>\n",
       "      <th>3</th>\n",
       "      <td>February 07, 2019, 06:26:00 PM EDT</td>\n",
       "      <td>AMZN</td>\n",
       "      <td>NaN</td>\n",
       "      <td>Amazon's Bezos says National Enquirer tried to...</td>\n",
       "      <td>\\n\\n\\nReuters\\n\\n@media screen and (max-device...</td>\n",
       "      <td>https://www.nasdaq.com/article/amazons-bezos-s...</td>\n",
       "      <td>2019-02-07 18:26:00-05:00</td>\n",
       "      <td>False</td>\n",
       "      <td>2019-02-08</td>\n",
       "      <td>Jeff Bezos, chief executive of Amazon.com Inc,...</td>\n",
       "      <td>{'Count': 8, 'sent_count': 5, 'freq': 1.6}</td>\n",
       "      <td>0.577320</td>\n",
       "    </tr>\n",
       "    <tr>\n",
       "      <th>22</th>\n",
       "      <td>February 07, 2019, 09:25:09 AM EDT</td>\n",
       "      <td>AMZN</td>\n",
       "      <td>Motley Fool</td>\n",
       "      <td>Only 1 Amazon Metric Should Really Matter to I...</td>\n",
       "      <td>\\n Wall Street didn't show much love for   Ama...</td>\n",
       "      <td>https://www.nasdaq.com/article/only-1-amazon-m...</td>\n",
       "      <td>2019-02-07 09:25:09-05:00</td>\n",
       "      <td>False</td>\n",
       "      <td>2019-02-07</td>\n",
       "      <td>Wall Street didn't show much love for   Amazon...</td>\n",
       "      <td>{'Count': 5, 'sent_count': 5, 'freq': 1.0}</td>\n",
       "      <td>0.388820</td>\n",
       "    </tr>\n",
       "    <tr>\n",
       "      <th>23</th>\n",
       "      <td>February 07, 2019, 08:36:00 AM EDT</td>\n",
       "      <td>AMZN</td>\n",
       "      <td>Motley Fool</td>\n",
       "      <td>Amazon Is Running Away With the Smart-Speaker ...</td>\n",
       "      <td>\\n The latest data for the smart-speaker marke...</td>\n",
       "      <td>https://www.nasdaq.com/article/amazon-is-runni...</td>\n",
       "      <td>2019-02-07 08:36:00-05:00</td>\n",
       "      <td>False</td>\n",
       "      <td>2019-02-07</td>\n",
       "      <td>That's because Amazon   makes it easy for user...</td>\n",
       "      <td>{'Count': 7, 'sent_count': 5, 'freq': 1.4}</td>\n",
       "      <td>0.475180</td>\n",
       "    </tr>\n",
       "  </tbody>\n",
       "</table>\n",
       "</div>"
      ],
      "text/plain": [
       "                              datetime stockcode       source  \\\n",
       "0   February 07, 2019, 09:11:00 PM EDT      AMZN          NaN   \n",
       "2   February 07, 2019, 06:55:00 PM EDT      AMZN          NaN   \n",
       "3   February 07, 2019, 06:26:00 PM EDT      AMZN          NaN   \n",
       "22  February 07, 2019, 09:25:09 AM EDT      AMZN  Motley Fool   \n",
       "23  February 07, 2019, 08:36:00 AM EDT      AMZN  Motley Fool   \n",
       "\n",
       "                                             headline  \\\n",
       "0   Amazon CEO Jeff Bezos Accuses National Enquire...   \n",
       "2   Amazon's Bezos says National Enquirer owner tr...   \n",
       "3   Amazon's Bezos says National Enquirer tried to...   \n",
       "22  Only 1 Amazon Metric Should Really Matter to I...   \n",
       "23  Amazon Is Running Away With the Smart-Speaker ...   \n",
       "\n",
       "                                              article  \\\n",
       "0   \\n\\n\\nShutterstock photo\\n\\n@media screen and ...   \n",
       "2   \\n\\n\\nReuters\\n\\n@media screen and (max-device...   \n",
       "3   \\n\\n\\nReuters\\n\\n@media screen and (max-device...   \n",
       "22  \\n Wall Street didn't show much love for   Ama...   \n",
       "23  \\n The latest data for the smart-speaker marke...   \n",
       "\n",
       "                                                 urls  \\\n",
       "0   https://www.nasdaq.com/article/amazon-ceo-jeff...   \n",
       "2   https://www.nasdaq.com/article/amazons-bezos-s...   \n",
       "3   https://www.nasdaq.com/article/amazons-bezos-s...   \n",
       "22  https://www.nasdaq.com/article/only-1-amazon-m...   \n",
       "23  https://www.nasdaq.com/article/amazon-is-runni...   \n",
       "\n",
       "                          dt IsMarketOpen   TradeDate  \\\n",
       "0  2019-02-07 21:11:00-05:00        False  2019-02-08   \n",
       "2  2019-02-07 18:55:00-05:00        False  2019-02-08   \n",
       "3  2019-02-07 18:26:00-05:00        False  2019-02-08   \n",
       "22 2019-02-07 09:25:09-05:00        False  2019-02-07   \n",
       "23 2019-02-07 08:36:00-05:00        False  2019-02-07   \n",
       "\n",
       "                                              summary  \\\n",
       "0   Shutterstock photo@media screen and (Amazon CE...   \n",
       "2   Jeff Bezos, chief executive of Amazon.com Inc,...   \n",
       "3   Jeff Bezos, chief executive of Amazon.com Inc,...   \n",
       "22  Wall Street didn't show much love for   Amazon...   \n",
       "23  That's because Amazon   makes it easy for user...   \n",
       "\n",
       "                                           _relevance  _sentiment  \n",
       "0   {'Count': 11, 'sent_count': 3, 'freq': 3.66666...    0.717833  \n",
       "2          {'Count': 4, 'sent_count': 5, 'freq': 0.8}    0.647160  \n",
       "3          {'Count': 8, 'sent_count': 5, 'freq': 1.6}    0.577320  \n",
       "22         {'Count': 5, 'sent_count': 5, 'freq': 1.0}    0.388820  \n",
       "23         {'Count': 7, 'sent_count': 5, 'freq': 1.4}    0.475180  "
      ]
     },
     "execution_count": 21,
     "metadata": {},
     "output_type": "execute_result"
    }
   ],
   "source": [
    "df_on.head()"
   ]
  },
  {
   "cell_type": "code",
   "execution_count": 42,
   "metadata": {},
   "outputs": [
    {
     "data": {
      "text/plain": [
       "'Shutterstock photo@media screen and (Amazon CEO Jeff Bezos Accuses National Enquirer Owner Of \\'extortion & Blackmail\\' (RTTNews.com) - Jeff Bezos, owner of the Washington Post and founder of Amazon.com Inc, has accused the National Enquirer\\'s owner of trying to blackmail him over lewd pictures.Bezos said the magazine\\'s parent company American Media Inc or AMI wanted him to drop an investigation into how it obtained his private messages.Bezos and his wife, MacKenzie, said last month they were getting divorced.Their announcement came just before the National Enquirer carried reports about the tech titan\\'s extramarital affair.In a blog post on Thursday, Bezos posted an email he said had been sent to his intermediaries by AMI\\'s representatives threatening to publish \"intimate photos\" of Bezos and his lover, former TV host Lauren Sanchez.The billionaire said AMI had wanted him to make a \"false public statement\" that the National Enquirer\\'s coverage of him and his mistress was not politically motivated.According to emails included by Mr Bezos in his blog, an AMI lawyer proposed on Wednesday that the photos would not be published in return for a public statement \"affirming that have no knowledge or basis\" to suspect such a motive.\"Rather than capitulate to extortion and blackmail,\" wrote Mr Bezos, \"I\\'ve decided to publish exactly what they sent me, despite the personal cost and embarrassment they threaten.\"Early in the blog post, Mr Bezos mentions AMI\\'s links to President Donald Trump.Bezos said his ownership of the Washington Post was a \"complexifier\" for him because he had made enemies of \"certain powerful people\", including President Donald Trump, who is a friend of AMI\\'s boss David Pecker.Mr Bezos notes in his blog post how the publisher confessed to the so-called \"catch and kill\" deal to bury Karen McDougal\\'s politically embarrassing story.AMI\\'s agreement to co-operate with federal authorities means it will not face criminal charges over the payments, Manhattan prosecutors announced in December.'"
      ]
     },
     "execution_count": 42,
     "metadata": {},
     "output_type": "execute_result"
    }
   ],
   "source": [
    "from sentiment_utils import FilterOutCssJs\n",
    "text = df_on['article'][0]\n",
    "tt = FilterOutCssJs(GetCleanText( text ))\n",
    "tt"
   ]
  },
  {
   "cell_type": "code",
   "execution_count": 37,
   "metadata": {},
   "outputs": [
    {
     "data": {
      "text/plain": [
       "(<Sentence: One of the biggest sellers on Amazon.com Inc'sIndia website has returned after the online retail giant changed its business structures to comply with new federal e-commerce curbs that took effect last week, two sources told Reuters.India's modified foreign direct investment rules that kicked in on Feb. 1, prevent companies such as Amazon from selling products from vendors where they, or their group companies, have equity holdings.>,\n",
       " <Sentence: But on Thursday Cloudtail had returned with more than 300,000 products listed on Amazon, after the U.S. e-commerce firm cut its indirect holding to 24 percent, one of the sources with knowledge of the matter told Reuters.>,\n",
       " <Sentence: The stake was bought by the majority holders, Catamaran Ventures, the source said.>,\n",
       " <Sentence: \"We have no equity participation in any seller company on our marketplace,\" Amazon said in a statement, without sharing details of the changes in its indirect holding of Cloudtail.Catamaran, an investment firm launched by Infosys  founder N.R.>,\n",
       " <Sentence: Narayana Murthy, said it had made \"required changes\" to comply with the rules, but did not elaborate.Amazon is working on a similar restructuring for the other big seller, Appario, a second source said.The sources declined to be named as they were not authorized to discuss the same with media.The new rules were introduced after complaints from small Indian traders who said Amazon and Walmart-owned online retailer Flipkart used their control over inventory from affiliated vendors to unfairly offer discounts.The Confederation of All India Traders (CAIT), which has pushed for tougher scrutiny of e-commerce players, on Thursday alleged Amazon's latest move was a circumvention of the new rules.The group would ask India's industries department to clarify that online retailers should not hold direct or indirect stakes in their vendors, CAIT Secretary General Praveen Khandelwal told Reuters.The industries department did not immediately respond to a request for comment.Amazon and Walmart Inc  had unsuccessfully lobbied against the latest rules and pushed for a delay in their implementation.While product listings on Amazon have been disrupted, Flipkart has been less impacted as it had no equity holdings in its vendors.Flipkart's sellers were exhausting inventory from before the rules kicked in, and the company was working with its partners to ensure they complied with new norms when they sold new inventory on the platform, a person with direct knowledge of the matter said.Flipkart declined to comment.>)"
      ]
     },
     "execution_count": 37,
     "metadata": {},
     "output_type": "execute_result"
    }
   ],
   "source": [
    "summ = GetSummary(tt, method = 'sumy')\n",
    "summ"
   ]
  },
  {
   "cell_type": "code",
   "execution_count": 39,
   "metadata": {},
   "outputs": [
    {
     "data": {
      "text/plain": [
       "5"
      ]
     },
     "execution_count": 39,
     "metadata": {},
     "output_type": "execute_result"
    }
   ],
   "source": [
    "len( summ)"
   ]
  },
  {
   "cell_type": "code",
   "execution_count": 41,
   "metadata": {},
   "outputs": [
    {
     "data": {
      "text/plain": [
       "'One of the biggest sellers on Amazon.com Inc\\'sIndia website has returned after the online retail giant changed its business structures to comply with new federal e-commerce curbs that took effect last week, two sources told Reuters.India\\'s modified foreign direct investment rules that kicked in on Feb. 1, prevent companies such as Amazon from selling products from vendors where they, or their group companies, have equity holdings. But on Thursday Cloudtail had returned with more than 300,000 products listed on Amazon, after the U.S. e-commerce firm cut its indirect holding to 24 percent, one of the sources with knowledge of the matter told Reuters. The stake was bought by the majority holders, Catamaran Ventures, the source said. \"We have no equity participation in any seller company on our marketplace,\" Amazon said in a statement, without sharing details of the changes in its indirect holding of Cloudtail.Catamaran, an investment firm launched by Infosys  founder N.R. Narayana Murthy, said it had made \"required changes\" to comply with the rules, but did not elaborate.Amazon is working on a similar restructuring for the other big seller, Appario, a second source said.The sources declined to be named as they were not authorized to discuss the same with media.The new rules were introduced after complaints from small Indian traders who said Amazon and Walmart-owned online retailer Flipkart used their control over inventory from affiliated vendors to unfairly offer discounts.The Confederation of All India Traders (CAIT), which has pushed for tougher scrutiny of e-commerce players, on Thursday alleged Amazon\\'s latest move was a circumvention of the new rules.The group would ask India\\'s industries department to clarify that online retailers should not hold direct or indirect stakes in their vendors, CAIT Secretary General Praveen Khandelwal told Reuters.The industries department did not immediately respond to a request for comment.Amazon and Walmart Inc  had unsuccessfully lobbied against the latest rules and pushed for a delay in their implementation.While product listings on Amazon have been disrupted, Flipkart has been less impacted as it had no equity holdings in its vendors.Flipkart\\'s sellers were exhausting inventory from before the rules kicked in, and the company was working with its partners to ensure they complied with new norms when they sold new inventory on the platform, a person with direct knowledge of the matter said.Flipkart declined to comment.'"
      ]
     },
     "execution_count": 41,
     "metadata": {},
     "output_type": "execute_result"
    }
   ],
   "source": [
    "\" \".join([str(sent) for sent in summ])"
   ]
  },
  {
   "cell_type": "code",
   "execution_count": 106,
   "metadata": {},
   "outputs": [
    {
     "data": {
      "text/plain": [
       "array(['\\n\\n\\nReuters\\n\\n@media screen and (max-device-width: 480px){body{ font-size:30pt !important;}}\\n\\n\\n\\nBy Aditya Kalra and Sankalp Phartiyal\\nNEW DELHI, Feb 7 (Reuters) - One of the biggest sellers on Amazon.com Inc\\'sIndia website has returned after the online retail giant changed its business structures to comply with new federal e-commerce curbs that took effect last week, two sources told Reuters.\\nIndia\\'s modified foreign direct investment rules that kicked in on Feb. 1, prevent companies such as Amazon from selling products from vendors where they, or their group companies, have equity holdings. makeAd(\\'4\\',\\'300x250\\',\\'mktsnews\\',\\'article\\',\\'\\',\\'\\');\\nBut on Thursday Cloudtail had returned with more than 300,000 products listed on Amazon, after the U.S. e-commerce firm cut its indirect holding to 24 percent, one of the sources with knowledge of the matter told Reuters. The stake was bought by the majority holders, Catamaran Ventures, the source said.\\n\"We have no equity participation in any seller company on our marketplace,\" Amazon said in a statement, without sharing details of the changes in its indirect holding of Cloudtail.\\nCatamaran, an investment firm launched by Infosys  founder N.R. Narayana Murthy, said it had made \"required changes\" to comply with the rules, but did not elaborate.\\nAmazon is working on a similar restructuring for the other big seller, Appario, a second source said.\\nThe sources declined to be named as they were not authorized to discuss the same with media.\\nThe new rules were introduced after complaints from small Indian traders who said Amazon and Walmart-owned online retailer Flipkart used their control over inventory from affiliated vendors to unfairly offer discounts.\\nThe Confederation of All India Traders (CAIT), which has pushed for tougher scrutiny of e-commerce players, on Thursday alleged Amazon\\'s latest move was a circumvention of the new rules.\\nThe group would ask India\\'s industries department to clarify that online retailers should not hold direct or indirect stakes in their vendors, CAIT Secretary General Praveen Khandelwal told Reuters.\\nThe industries department did not immediately respond to a request for comment.\\nAmazon and Walmart Inc  had unsuccessfully lobbied against the latest rules and pushed for a delay in their implementation.\\nWhile product listings on Amazon have been disrupted, Flipkart has been less impacted as it had no equity holdings in its vendors.\\nFlipkart\\'s sellers were exhausting inventory from before the rules kicked in, and the company was working with its partners to ensure they complied with new norms when they sold new inventory on the platform, a person with direct knowledge of the matter said.\\nFlipkart declined to comment.\\n\\n\\n\\n\\n\\n\\n\\n\\n\\n\\n\\r\\n                (function() {\\r\\n                    new PowrPlayer({\\r\\n                        \"user_id\": 100010823,\\r\\n                        \"player_id\": 740,\\r\\n                        \"placeholder\": \"powr_1\"\\r\\n                    });\\r\\n                })();\\r\\n                \\n\\n\\n\\n\\nThis article appears in:\\nPolitics                           \\r\\n                            \\r\\n                                , World Markets                           \\r\\n                            \\r\\n                                , Stocks                           \\r\\n                            \\r\\n                                , Technology\\n\\n\\n\\n\\n\\nReferenced Symbols:\\n\\r\\n                                        AMZN\\r\\n                                    \\n,\\n\\n\\n\\n'],\n",
       "      dtype=object)"
      ]
     },
     "execution_count": 106,
     "metadata": {},
     "output_type": "execute_result"
    }
   ],
   "source": [
    "ddf = df_on[df_on['summary']=='']\n",
    "ddf = ddf.reset_index()\n",
    "ddf.loc[3,['article']].values"
   ]
  },
  {
   "cell_type": "code",
   "execution_count": 108,
   "metadata": {},
   "outputs": [
    {
     "data": {
      "text/plain": [
       "'Reuters@media screen and (max-device-width: 480px){body{ font-size:30pt !important;}}By Aditya Kalra and Sankalp PhartiyalNEW DELHI, Feb 7 (Reuters) - One of the biggest sellers on Amazon.com Inc\\'sIndia website has returned after the online retail giant changed its business structures to comply with new federal e-commerce curbs that took effect last week, two sources told Reuters.India\\'s modified foreign direct investment rules that kicked in on Feb. 1, prevent companies such as Amazon from selling products from vendors where they, or their group companies, have equity holdings. makeAd(\\'4\\',\\'300x250\\',\\'mktsnews\\',\\'article\\',,);But on Thursday Cloudtail had returned with more than 300,000 products listed on Amazon, after the U.S. e-commerce firm cut its indirect holding to 24 percent, one of the sources with knowledge of the matter told Reuters. The stake was bought by the majority holders, Catamaran Ventures, the source said.\"We have no equity participation in any seller company on our marketplace,\" Amazon said in a statement, without sharing details of the changes in its indirect holding of Cloudtail.Catamaran, an investment firm launched by Infosys  founder N.R. Narayana Murthy, said it had made \"required changes\" to comply with the rules, but did not elaborate.Amazon is working on a similar restructuring for the other big seller, Appario, a second source said.The sources declined to be named as they were not authorized to discuss the same with media.The new rules were introduced after complaints from small Indian traders who said Amazon and Walmart-owned online retailer Flipkart used their control over inventory from affiliated vendors to unfairly offer discounts.The Confederation of All India Traders (CAIT), which has pushed for tougher scrutiny of e-commerce players, on Thursday alleged Amazon\\'s latest move was a circumvention of the new rules.The group would ask India\\'s industries department to clarify that online retailers should not hold direct or indirect stakes in their vendors, CAIT Secretary General Praveen Khandelwal told Reuters.The industries department did not immediately respond to a request for comment.Amazon and Walmart Inc  had unsuccessfully lobbied against the latest rules and pushed for a delay in their implementation.While product listings on Amazon have been disrupted, Flipkart has been less impacted as it had no equity holdings in its vendors.Flipkart\\'s sellers were exhausting inventory from before the rules kicked in, and the company was working with its partners to ensure they complied with new norms when they sold new inventory on the platform, a person with direct knowledge of the matter said.Flipkart declined to comment.                (function() {                    new PowrPlayer({                        \"user_id\": 100010823,                        \"player_id\": 740,                        \"placeholder\": \"powr_1\"                    });                })();                This article appears in:Politics                                                                                       , World Markets                                                                                       , Stocks                                                                                       , TechnologyReferenced Symbols:                                        AMZN                                    ,'"
      ]
     },
     "execution_count": 108,
     "metadata": {},
     "output_type": "execute_result"
    }
   ],
   "source": [
    "tt = ddf.loc[3,['article']].values[0]\n",
    "GetCleanText(tt)"
   ]
  },
  {
   "cell_type": "code",
   "execution_count": 122,
   "metadata": {},
   "outputs": [
    {
     "data": {
      "text/plain": [
       "Index(['datetime', 'stockcode', 'source', 'headline', 'article', 'urls', 'tz',\n",
       "       'dt'],\n",
       "      dtype='object')"
      ]
     },
     "execution_count": 122,
     "metadata": {},
     "output_type": "execute_result"
    }
   ],
   "source": [
    "data.columns"
   ]
  },
  {
   "cell_type": "code",
   "execution_count": 114,
   "metadata": {},
   "outputs": [
    {
     "data": {
      "text/html": [
       "<div>\n",
       "<style scoped>\n",
       "    .dataframe tbody tr th:only-of-type {\n",
       "        vertical-align: middle;\n",
       "    }\n",
       "\n",
       "    .dataframe tbody tr th {\n",
       "        vertical-align: top;\n",
       "    }\n",
       "\n",
       "    .dataframe thead th {\n",
       "        text-align: right;\n",
       "    }\n",
       "</style>\n",
       "<table border=\"1\" class=\"dataframe\">\n",
       "  <thead>\n",
       "    <tr style=\"text-align: right;\">\n",
       "      <th></th>\n",
       "      <th>datetime</th>\n",
       "      <th>stockcode</th>\n",
       "      <th>source</th>\n",
       "      <th>headline</th>\n",
       "      <th>article</th>\n",
       "      <th>urls</th>\n",
       "      <th>dt</th>\n",
       "      <th>IsMarketOpen</th>\n",
       "      <th>TradeDate</th>\n",
       "      <th>summary</th>\n",
       "      <th>_relevance</th>\n",
       "      <th>_sentiment</th>\n",
       "    </tr>\n",
       "  </thead>\n",
       "  <tbody>\n",
       "    <tr>\n",
       "      <th>0</th>\n",
       "      <td>February 07, 2019, 09:11:00 PM EDT</td>\n",
       "      <td>AMZN</td>\n",
       "      <td>NaN</td>\n",
       "      <td>Amazon CEO Jeff Bezos Accuses National Enquire...</td>\n",
       "      <td>\\n\\n\\nShutterstock photo\\n\\n@media screen and ...</td>\n",
       "      <td>https://www.nasdaq.com/article/amazon-ceo-jeff...</td>\n",
       "      <td>2019-02-07 21:11:00-05:00</td>\n",
       "      <td>False</td>\n",
       "      <td>2019-02-08</td>\n",
       "      <td></td>\n",
       "      <td>0</td>\n",
       "      <td>NaN</td>\n",
       "    </tr>\n",
       "    <tr>\n",
       "      <th>2</th>\n",
       "      <td>February 07, 2019, 06:55:00 PM EDT</td>\n",
       "      <td>AMZN</td>\n",
       "      <td>NaN</td>\n",
       "      <td>Amazon's Bezos says National Enquirer owner tr...</td>\n",
       "      <td>\\n\\n\\nReuters\\n\\n@media screen and (max-device...</td>\n",
       "      <td>https://www.nasdaq.com/article/amazons-bezos-s...</td>\n",
       "      <td>2019-02-07 18:55:00-05:00</td>\n",
       "      <td>False</td>\n",
       "      <td>2019-02-08</td>\n",
       "      <td>Reuters@media screen and (max-device-width: 48...</td>\n",
       "      <td>2</td>\n",
       "      <td>0.452660</td>\n",
       "    </tr>\n",
       "    <tr>\n",
       "      <th>3</th>\n",
       "      <td>February 07, 2019, 06:26:00 PM EDT</td>\n",
       "      <td>AMZN</td>\n",
       "      <td>NaN</td>\n",
       "      <td>Amazon's Bezos says National Enquirer tried to...</td>\n",
       "      <td>\\n\\n\\nReuters\\n\\n@media screen and (max-device...</td>\n",
       "      <td>https://www.nasdaq.com/article/amazons-bezos-s...</td>\n",
       "      <td>2019-02-07 18:26:00-05:00</td>\n",
       "      <td>False</td>\n",
       "      <td>2019-02-08</td>\n",
       "      <td>In it, AMI proposes a public acknowledgment fr...</td>\n",
       "      <td>0</td>\n",
       "      <td>0.329825</td>\n",
       "    </tr>\n",
       "    <tr>\n",
       "      <th>22</th>\n",
       "      <td>February 07, 2019, 09:25:09 AM EDT</td>\n",
       "      <td>AMZN</td>\n",
       "      <td>Motley Fool</td>\n",
       "      <td>Only 1 Amazon Metric Should Really Matter to I...</td>\n",
       "      <td>\\n Wall Street didn't show much love for   Ama...</td>\n",
       "      <td>https://www.nasdaq.com/article/only-1-amazon-m...</td>\n",
       "      <td>2019-02-07 09:25:09-05:00</td>\n",
       "      <td>False</td>\n",
       "      <td>2019-02-07</td>\n",
       "      <td>But as    Motley Fool Money     host Chris Hil...</td>\n",
       "      <td>8</td>\n",
       "      <td>0.332850</td>\n",
       "    </tr>\n",
       "    <tr>\n",
       "      <th>23</th>\n",
       "      <td>February 07, 2019, 08:36:00 AM EDT</td>\n",
       "      <td>AMZN</td>\n",
       "      <td>Motley Fool</td>\n",
       "      <td>Amazon Is Running Away With the Smart-Speaker ...</td>\n",
       "      <td>\\n The latest data for the smart-speaker marke...</td>\n",
       "      <td>https://www.nasdaq.com/article/amazon-is-runni...</td>\n",
       "      <td>2019-02-07 08:36:00-05:00</td>\n",
       "      <td>False</td>\n",
       "      <td>2019-02-07</td>\n",
       "      <td>Aside from Amazon's dominance, the smart-speak...</td>\n",
       "      <td>9</td>\n",
       "      <td>0.451383</td>\n",
       "    </tr>\n",
       "  </tbody>\n",
       "</table>\n",
       "</div>"
      ],
      "text/plain": [
       "                              datetime stockcode       source  \\\n",
       "0   February 07, 2019, 09:11:00 PM EDT      AMZN          NaN   \n",
       "2   February 07, 2019, 06:55:00 PM EDT      AMZN          NaN   \n",
       "3   February 07, 2019, 06:26:00 PM EDT      AMZN          NaN   \n",
       "22  February 07, 2019, 09:25:09 AM EDT      AMZN  Motley Fool   \n",
       "23  February 07, 2019, 08:36:00 AM EDT      AMZN  Motley Fool   \n",
       "\n",
       "                                             headline  \\\n",
       "0   Amazon CEO Jeff Bezos Accuses National Enquire...   \n",
       "2   Amazon's Bezos says National Enquirer owner tr...   \n",
       "3   Amazon's Bezos says National Enquirer tried to...   \n",
       "22  Only 1 Amazon Metric Should Really Matter to I...   \n",
       "23  Amazon Is Running Away With the Smart-Speaker ...   \n",
       "\n",
       "                                              article  \\\n",
       "0   \\n\\n\\nShutterstock photo\\n\\n@media screen and ...   \n",
       "2   \\n\\n\\nReuters\\n\\n@media screen and (max-device...   \n",
       "3   \\n\\n\\nReuters\\n\\n@media screen and (max-device...   \n",
       "22  \\n Wall Street didn't show much love for   Ama...   \n",
       "23  \\n The latest data for the smart-speaker marke...   \n",
       "\n",
       "                                                 urls  \\\n",
       "0   https://www.nasdaq.com/article/amazon-ceo-jeff...   \n",
       "2   https://www.nasdaq.com/article/amazons-bezos-s...   \n",
       "3   https://www.nasdaq.com/article/amazons-bezos-s...   \n",
       "22  https://www.nasdaq.com/article/only-1-amazon-m...   \n",
       "23  https://www.nasdaq.com/article/amazon-is-runni...   \n",
       "\n",
       "                          dt IsMarketOpen  TradeDate  \\\n",
       "0  2019-02-07 21:11:00-05:00        False 2019-02-08   \n",
       "2  2019-02-07 18:55:00-05:00        False 2019-02-08   \n",
       "3  2019-02-07 18:26:00-05:00        False 2019-02-08   \n",
       "22 2019-02-07 09:25:09-05:00        False 2019-02-07   \n",
       "23 2019-02-07 08:36:00-05:00        False 2019-02-07   \n",
       "\n",
       "                                              summary  _relevance  _sentiment  \n",
       "0                                                               0         NaN  \n",
       "2   Reuters@media screen and (max-device-width: 48...           2    0.452660  \n",
       "3   In it, AMI proposes a public acknowledgment fr...           0    0.329825  \n",
       "22  But as    Motley Fool Money     host Chris Hil...           8    0.332850  \n",
       "23  Aside from Amazon's dominance, the smart-speak...           9    0.451383  "
      ]
     },
     "execution_count": 114,
     "metadata": {},
     "output_type": "execute_result"
    }
   ],
   "source": [
    "df_on.head()"
   ]
  },
  {
   "cell_type": "code",
   "execution_count": 117,
   "metadata": {},
   "outputs": [
    {
     "data": {
      "text/html": [
       "<div>\n",
       "<style scoped>\n",
       "    .dataframe tbody tr th:only-of-type {\n",
       "        vertical-align: middle;\n",
       "    }\n",
       "\n",
       "    .dataframe tbody tr th {\n",
       "        vertical-align: top;\n",
       "    }\n",
       "\n",
       "    .dataframe thead th {\n",
       "        text-align: right;\n",
       "    }\n",
       "</style>\n",
       "<table border=\"1\" class=\"dataframe\">\n",
       "  <thead>\n",
       "    <tr style=\"text-align: right;\">\n",
       "      <th></th>\n",
       "      <th>_relevance</th>\n",
       "      <th>_sentiment</th>\n",
       "    </tr>\n",
       "  </thead>\n",
       "  <tbody>\n",
       "    <tr>\n",
       "      <th>count</th>\n",
       "      <td>259.000000</td>\n",
       "      <td>233.000000</td>\n",
       "    </tr>\n",
       "    <tr>\n",
       "      <th>mean</th>\n",
       "      <td>2.000000</td>\n",
       "      <td>0.398067</td>\n",
       "    </tr>\n",
       "    <tr>\n",
       "      <th>std</th>\n",
       "      <td>3.441651</td>\n",
       "      <td>0.323818</td>\n",
       "    </tr>\n",
       "    <tr>\n",
       "      <th>min</th>\n",
       "      <td>0.000000</td>\n",
       "      <td>-0.785500</td>\n",
       "    </tr>\n",
       "    <tr>\n",
       "      <th>25%</th>\n",
       "      <td>0.000000</td>\n",
       "      <td>0.285456</td>\n",
       "    </tr>\n",
       "    <tr>\n",
       "      <th>50%</th>\n",
       "      <td>0.000000</td>\n",
       "      <td>0.440580</td>\n",
       "    </tr>\n",
       "    <tr>\n",
       "      <th>75%</th>\n",
       "      <td>3.000000</td>\n",
       "      <td>0.579443</td>\n",
       "    </tr>\n",
       "    <tr>\n",
       "      <th>max</th>\n",
       "      <td>19.000000</td>\n",
       "      <td>0.973000</td>\n",
       "    </tr>\n",
       "  </tbody>\n",
       "</table>\n",
       "</div>"
      ],
      "text/plain": [
       "       _relevance  _sentiment\n",
       "count  259.000000  233.000000\n",
       "mean     2.000000    0.398067\n",
       "std      3.441651    0.323818\n",
       "min      0.000000   -0.785500\n",
       "25%      0.000000    0.285456\n",
       "50%      0.000000    0.440580\n",
       "75%      3.000000    0.579443\n",
       "max     19.000000    0.973000"
      ]
     },
     "execution_count": 117,
     "metadata": {},
     "output_type": "execute_result"
    }
   ],
   "source": [
    "df_on.describe()"
   ]
  },
  {
   "cell_type": "markdown",
   "metadata": {},
   "source": [
    "### Add new data into CSV file"
   ]
  },
  {
   "cell_type": "code",
   "execution_count": 118,
   "metadata": {
    "scrolled": true
   },
   "outputs": [],
   "source": [
    "df_all = df_on"
   ]
  },
  {
   "cell_type": "markdown",
   "metadata": {},
   "source": [
    "## Write DF to File"
   ]
  },
  {
   "cell_type": "code",
   "execution_count": 119,
   "metadata": {},
   "outputs": [],
   "source": [
    "l_req_col = ['datetime', 'stockcode', 'source', 'headline', 'article', 'urls']\n",
    "output_fname = 'dataset/nasdaq/overnight_sentiments.csv'\n",
    "\n",
    "df_all.to_csv(output_fname)"
   ]
  }
 ],
 "metadata": {
  "kernelspec": {
   "display_name": "Python 3",
   "language": "python",
   "name": "python3"
  },
  "language_info": {
   "codemirror_mode": {
    "name": "ipython",
    "version": 3
   },
   "file_extension": ".py",
   "mimetype": "text/x-python",
   "name": "python",
   "nbconvert_exporter": "python",
   "pygments_lexer": "ipython3",
   "version": "3.6.3"
  }
 },
 "nbformat": 4,
 "nbformat_minor": 2
}
